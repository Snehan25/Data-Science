{
 "cells": [
  {
   "cell_type": "markdown",
   "metadata": {
    "id": "y1HMD4oI7FL7"
   },
   "source": [
    "# Operators in Python\n",
    "\n",
    "- Arithmetic Operators\n",
    "- Relational Operators\n",
    "- Logical Operators\n",
    "- Bitwise Operators\n",
    "- Assignment Operators\n",
    "- Membership Operators"
   ]
  },
  {
   "cell_type": "code",
   "execution_count": 2,
   "metadata": {
    "colab": {
     "base_uri": "https://localhost:8080/"
    },
    "id": "a7cegk-f7U4-",
    "outputId": "77490d0d-316e-4611-9cd7-8c99e64fca2a"
   },
   "outputs": [
    {
     "name": "stdout",
     "output_type": "stream",
     "text": [
      "11\n",
      "-1\n",
      "30\n",
      "2.5\n",
      "2\n",
      "1\n",
      "25\n"
     ]
    }
   ],
   "source": [
    "# Arithmetric Operators\n",
    "\n",
    "print(5+6) # add\n",
    "\n",
    "print(5-6) # sub\n",
    "\n",
    "print(5*6) # mul\n",
    "\n",
    "print(5/2) # div\n",
    "\n",
    "print(5//2) # int div\n",
    "\n",
    "print(5%2) # modulus -> tells the remainder after division\n",
    "\n",
    "print(5**2) # power of "
   ]
  },
  {
   "cell_type": "code",
   "execution_count": 3,
   "metadata": {
    "colab": {
     "base_uri": "https://localhost:8080/"
    },
    "id": "TMIQKhFd7Y5A",
    "outputId": "573867e9-962a-45a6-a313-dcaa8b9a6406"
   },
   "outputs": [
    {
     "name": "stdout",
     "output_type": "stream",
     "text": [
      "False\n",
      "True\n",
      "True\n",
      "True\n",
      "True\n",
      "False\n"
     ]
    }
   ],
   "source": [
    "# Relational Operators\n",
    "\n",
    "print(4>5) # greater than\n",
    "\n",
    "print(4<5) # less than\n",
    "\n",
    "print(4>=4) # greater than equal to\n",
    "\n",
    "print(4<=4) # less than equal to\n",
    "\n",
    "print(4==4) # double equal to \n",
    "\n",
    "print(4!=4) # not equal to"
   ]
  },
  {
   "cell_type": "code",
   "execution_count": null,
   "metadata": {
    "colab": {
     "base_uri": "https://localhost:8080/"
    },
    "id": "vyxdjDbc7avq",
    "outputId": "4c6a1710-fea3-466c-f6b2-f98de20a2a0b"
   },
   "outputs": [
    {
     "name": "stdout",
     "output_type": "stream",
     "text": [
      "0\n",
      "1\n",
      "False\n"
     ]
    }
   ],
   "source": [
    "# Logical Operators\n",
    "# AND\n",
    "# OR\n",
    "# NOT\n",
    "\n",
    "print(1 and 0)\n",
    "\n",
    "print(1 or 0)\n",
    "\n",
    "print(not 1)"
   ]
  },
  {
   "cell_type": "code",
   "execution_count": 5,
   "metadata": {
    "colab": {
     "base_uri": "https://localhost:8080/"
    },
    "id": "H4KzpSke7d9l",
    "outputId": "5832a648-6430-425c-8fa7-8dbad5d8d4b3"
   },
   "outputs": [
    {
     "name": "stdout",
     "output_type": "stream",
     "text": [
      "2\n",
      "3\n",
      "1\n",
      "-4\n",
      "1\n",
      "20\n"
     ]
    }
   ],
   "source": [
    "# Bitwise Operators -> Operate on Binary Values\n",
    "\n",
    "# bitwise and\n",
    "print(2 & 3)\n",
    "# binary representation\n",
    "# 010 --> 2\n",
    "# 011 --> 3\n",
    "# ----\n",
    "# 010 --> 2\n",
    "\n",
    "\n",
    "# bitwise or\n",
    "print(2 | 3)\n",
    "# 010 --> 2\n",
    "# 011 --> 3\n",
    "# ----\n",
    "# 110 --> 3\n",
    "\n",
    "# bitwise xor\n",
    "print(2 ^ 3)\n",
    "# 010 --> 2\n",
    "# 011 --> 3\n",
    "# ----\n",
    "# 001 --> 1\n",
    "\n",
    "print(~3) # not of 3 -> will make 0 as 1 and 1 as 0 in bit pattern\n",
    "# 011 --> 3\n",
    "# ----\n",
    "# 100 --> -4\n",
    "\n",
    "# Bitwise Right Operator --> Right Shift\n",
    "print(4 >> 2)\n",
    "# 100\n",
    "# ---\n",
    "# 001 --> 1\n",
    "\n",
    "# Bitwise Left Operator --> Left Shift\n",
    "print(5 << 2)\n",
    "# 101\n",
    "# ---\n",
    "# 10100 --> 16 + 0 + 4 + 0 + 0 = 20"
   ]
  },
  {
   "cell_type": "code",
   "execution_count": 14,
   "metadata": {
    "colab": {
     "base_uri": "https://localhost:8080/"
    },
    "id": "8EEm8eHO7gD_",
    "outputId": "a421f118-2ee3-42da-91ff-3cd06de41755"
   },
   "outputs": [
    {
     "name": "stdout",
     "output_type": "stream",
     "text": [
      "4\n",
      "0\n"
     ]
    }
   ],
   "source": [
    "# Assignment Operators\n",
    "\n",
    "# = -->assignment operator\n",
    "# ex: a = 2\n",
    "\n",
    "a = 2\n",
    "\n",
    "# a = a + 2\n",
    "a += 2\n",
    "\n",
    "b = 2\n",
    "\n",
    "# a = a % 2\n",
    "b %= 2\n",
    "\n",
    "# note: a++ or ++a doesn't work in c++\n",
    "print(a)\n",
    "print(b)"
   ]
  },
  {
   "cell_type": "code",
   "execution_count": 21,
   "metadata": {
    "colab": {
     "base_uri": "https://localhost:8080/"
    },
    "id": "LzrIz7I87h-W",
    "outputId": "d362a8a0-bbae-406f-bd33-fc6fe789e889"
   },
   "outputs": [
    {
     "name": "stdout",
     "output_type": "stream",
     "text": [
      "True\n",
      "False\n",
      "False\n",
      "False\n"
     ]
    }
   ],
   "source": [
    "# Membership Operators\n",
    "# two types:\n",
    "# in \n",
    "# not in\n",
    "\n",
    "# whether it's in something or not\n",
    "\n",
    "print('D' in 'Delhi') # D exists in Delhi or not\n",
    "print('D' not in 'Delhi') # D is not in delhi or not\n",
    "\n",
    "# Remember it's case sensitive\n",
    "print('d' in 'Delhi')\n",
    "\n",
    "# this operator doesn't only work with strings but with other data types as well\n",
    "# Ex: works with list, tuple, sets, etc....\n",
    "\n",
    "print(1 in [2,3,4,5,6]) # 1 exists in this or not"
   ]
  },
  {
   "cell_type": "code",
   "execution_count": null,
   "metadata": {},
   "outputs": [],
   "source": [
    "# AND is used for normal And operation \n",
    "# & is used for Bitwise And operation"
   ]
  },
  {
   "cell_type": "code",
   "execution_count": 23,
   "metadata": {
    "colab": {
     "base_uri": "https://localhost:8080/"
    },
    "id": "C-LoVrYGDEuB",
    "outputId": "5842d198-7b4f-4785-cec7-5735603ab873"
   },
   "outputs": [
    {
     "name": "stdin",
     "output_type": "stream",
     "text": [
      "Enter a 3 digit number 666\n"
     ]
    },
    {
     "name": "stdout",
     "output_type": "stream",
     "text": [
      "18\n"
     ]
    }
   ],
   "source": [
    "# Program (Using Operators) - Find the sum of a 3 digit number entered by the user\n",
    "# modulus and int div is used\n",
    "\n",
    "number = int(input('Enter a 3 digit number'))\n",
    "\n",
    "# 345%10 -> 5\n",
    "a = number%10\n",
    "\n",
    "number = number//10\n",
    "\n",
    "# 34%10 -> 4\n",
    "b = number % 10\n",
    "\n",
    "number = number//10\n",
    "# 3 % 10 -> 3\n",
    "c = number % 10\n",
    "\n",
    "print(a + b + c)"
   ]
  },
  {
   "cell_type": "markdown",
   "metadata": {
    "id": "Iq7CzVFs7mWT"
   },
   "source": [
    "# If-else in Python"
   ]
  },
  {
   "cell_type": "code",
   "execution_count": 25,
   "metadata": {
    "colab": {
     "base_uri": "https://localhost:8080/"
    },
    "id": "dGz-83pN7oxe",
    "outputId": "01cd71cf-6af3-464a-dcc1-8c21be5e092c"
   },
   "outputs": [
    {
     "name": "stdin",
     "output_type": "stream",
     "text": [
      "enter email rahul@gmail.com\n",
      "enter password 3456\n"
     ]
    },
    {
     "name": "stdout",
     "output_type": "stream",
     "text": [
      "Not correct\n"
     ]
    }
   ],
   "source": [
    "# login program and indentation\n",
    "# email -> nitish.campusx@gmail.com\n",
    "# password -> 1234\n",
    "\n",
    "#python syntax\n",
    "# if condition:\n",
    "#   code\n",
    "# else:\n",
    "#   code\n",
    "\n",
    "email = input('enter email')\n",
    "password = input('enter password')\n",
    "\n",
    "if email == 'nitish.campusx@gmail.com' and password == '1234':\n",
    "  print('Welcome')\n",
    "elif email == 'nitish.campusx@gmail.com' and password != '1234':\n",
    "  # tell the user\n",
    "  print('Incorrect password')\n",
    "  password = input('enter password again')\n",
    "  if password == '1234':\n",
    "    print('Welcome,finally!')\n",
    "  else:\n",
    "    print('beta tumse na ho paayega!')\n",
    "else:\n",
    "  print('Not correct')"
   ]
  },
  {
   "cell_type": "code",
   "execution_count": null,
   "metadata": {
    "id": "qo_1tY2ABlAX"
   },
   "outputs": [],
   "source": [
    "# if-else examples\n",
    "# 1. Find the min of 3 given numbers\n",
    "# 2. Menu Driven Program"
   ]
  },
  {
   "cell_type": "code",
   "execution_count": 26,
   "metadata": {
    "colab": {
     "base_uri": "https://localhost:8080/"
    },
    "id": "gQpTJbMH3W6_",
    "outputId": "3a2ff0d1-a8d2-4b41-eb50-49612c57b612"
   },
   "outputs": [
    {
     "name": "stdin",
     "output_type": "stream",
     "text": [
      "first num 4\n",
      "second num 10\n",
      "third num 8\n"
     ]
    },
    {
     "name": "stdout",
     "output_type": "stream",
     "text": [
      "smallest is 4\n"
     ]
    }
   ],
   "source": [
    "# min of 3 number\n",
    "\n",
    "a = int(input('first num'))\n",
    "b = int(input('second num'))\n",
    "c = int(input('third num'))\n",
    "\n",
    "if a<b and a<c:\n",
    "  print('smallest is',a)\n",
    "elif b<c:\n",
    "  print('smallest is',b)\n",
    "else:\n",
    "  print('smallest is',c)"
   ]
  },
  {
   "cell_type": "code",
   "execution_count": 31,
   "metadata": {},
   "outputs": [
    {
     "name": "stdin",
     "output_type": "stream",
     "text": [
      "enter the 1st number 2\n",
      "enter the 2nd number 2\n",
      "Enter the Operation /\n"
     ]
    },
    {
     "name": "stdout",
     "output_type": "stream",
     "text": [
      "1.0\n"
     ]
    }
   ],
   "source": [
    "# menu driven program - ex: Basic Calculator\n",
    "fnum = int(input(\"enter the 1st number\"))\n",
    "snum = int(input(\"enter the 2nd number\"))\n",
    "\n",
    "op = input('Enter the Operation')\n",
    "\n",
    "if op == '+':\n",
    "    print(fnum + snum)\n",
    "elif op == '-':\n",
    "    print(fnum - snum)\n",
    "elif op == '*':\n",
    "    print(fnum * snum)\n",
    "else:\n",
    "    print(fnum / snum)\n"
   ]
  },
  {
   "cell_type": "code",
   "execution_count": 30,
   "metadata": {
    "colab": {
     "base_uri": "https://localhost:8080/"
    },
    "id": "hgNqlC5C4jqF",
    "outputId": "d9a4e001-985d-46fe-fdf4-2767dde7d340"
   },
   "outputs": [
    {
     "name": "stdin",
     "output_type": "stream",
     "text": [
      "\n",
      "Hi! how can I help you.\n",
      "1. Enter 1 for pin change\n",
      "2. Enter 2 for balance check\n",
      "3. Enter 3 for withdrawl\n",
      "4. Enter 4 for exit\n",
      " 4\n"
     ]
    },
    {
     "name": "stdout",
     "output_type": "stream",
     "text": [
      "exit\n"
     ]
    }
   ],
   "source": [
    "# menu driven program - ex: Basic ATM\n",
    "menu = input(\"\"\"\n",
    "Hi! how can I help you.\n",
    "1. Enter 1 for pin change\n",
    "2. Enter 2 for balance check\n",
    "3. Enter 3 for withdrawl\n",
    "4. Enter 4 for exit\n",
    "\"\"\")\n",
    "\n",
    "if menu == '1':\n",
    "  print('pin change')\n",
    "elif menu == '2':\n",
    "  print('balance')\n",
    "else:\n",
    "  print('exit')"
   ]
  },
  {
   "cell_type": "markdown",
   "metadata": {},
   "source": [
    "# Modules in Python\n",
    "- math\n",
    "- keywords\n",
    "- random\n",
    "- datetime"
   ]
  },
  {
   "cell_type": "raw",
   "metadata": {
    "id": "532_6mva8A6C"
   },
   "source": [
    "like in c++ we had header files/ libraries like #include<iostream> , #include<vector>, etc.....\n",
    "\n",
    "similarly in python we have Modules\n"
   ]
  },
  {
   "cell_type": "code",
   "execution_count": 37,
   "metadata": {
    "colab": {
     "base_uri": "https://localhost:8080/"
    },
    "id": "x5VXt7wv8G4o",
    "outputId": "0f191ca5-e4c3-4c79-ecf2-dcbd23cbd770"
   },
   "outputs": [
    {
     "data": {
      "text/plain": [
       "14.0"
      ]
     },
     "execution_count": 37,
     "metadata": {},
     "output_type": "execute_result"
    }
   ],
   "source": [
    "# math\n",
    "import math\n",
    "\n",
    "math.sqrt(196)\n"
   ]
  },
  {
   "cell_type": "code",
   "execution_count": 38,
   "metadata": {},
   "outputs": [
    {
     "data": {
      "text/plain": [
       "120"
      ]
     },
     "execution_count": 38,
     "metadata": {},
     "output_type": "execute_result"
    }
   ],
   "source": [
    "math.factorial(5)"
   ]
  },
  {
   "cell_type": "code",
   "execution_count": 39,
   "metadata": {},
   "outputs": [
    {
     "data": {
      "text/plain": [
       "34"
      ]
     },
     "execution_count": 39,
     "metadata": {},
     "output_type": "execute_result"
    }
   ],
   "source": [
    "math.floor(34.6)\n",
    "\n",
    "\n",
    "# there are so many more ....\n",
    "# write math. and then press `tab` you will be able to see all the function available"
   ]
  },
  {
   "cell_type": "code",
   "execution_count": 35,
   "metadata": {
    "colab": {
     "base_uri": "https://localhost:8080/"
    },
    "id": "FLgAX9pz8HBT",
    "outputId": "63de6b39-b796-475b-9b7d-fa22f2019c90"
   },
   "outputs": [
    {
     "name": "stdout",
     "output_type": "stream",
     "text": [
      "['False', 'None', 'True', 'and', 'as', 'assert', 'async', 'await', 'break', 'class', 'continue', 'def', 'del', 'elif', 'else', 'except', 'finally', 'for', 'from', 'global', 'if', 'import', 'in', 'is', 'lambda', 'nonlocal', 'not', 'or', 'pass', 'raise', 'return', 'try', 'while', 'with', 'yield']\n"
     ]
    }
   ],
   "source": [
    "# keyword\n",
    "import keyword\n",
    "print(keyword.kwlist)"
   ]
  },
  {
   "cell_type": "code",
   "execution_count": 41,
   "metadata": {
    "colab": {
     "base_uri": "https://localhost:8080/"
    },
    "id": "R0dWpe-w8HSZ",
    "outputId": "3aa87b74-0699-47d7-8316-73de80dbfeb1"
   },
   "outputs": [
    {
     "name": "stdout",
     "output_type": "stream",
     "text": [
      "28\n"
     ]
    }
   ],
   "source": [
    "# random\n",
    "import random\n",
    "print(random.randint(1,100)) # will print a random int between 1 & 100"
   ]
  },
  {
   "cell_type": "code",
   "execution_count": 42,
   "metadata": {
    "colab": {
     "base_uri": "https://localhost:8080/"
    },
    "id": "XNHWXsM0iFn3",
    "outputId": "7d219248-ba98-4b2e-a382-57630acea35c"
   },
   "outputs": [
    {
     "name": "stdout",
     "output_type": "stream",
     "text": [
      "2025-05-24 12:08:20.290896\n"
     ]
    }
   ],
   "source": [
    "# datetime\n",
    "import datetime\n",
    "print(datetime.datetime.now()) # print today's date and current time"
   ]
  },
  {
   "cell_type": "code",
   "execution_count": null,
   "metadata": {},
   "outputs": [],
   "source": [
    "help()\n",
    "\n",
    "#modules"
   ]
  },
  {
   "cell_type": "code",
   "execution_count": null,
   "metadata": {},
   "outputs": [],
   "source": [
    "help('modules') # will give a list of all modules that is available"
   ]
  },
  {
   "cell_type": "markdown",
   "metadata": {
    "id": "2Ow6_gWG7ukc"
   },
   "source": [
    "# Loops in Python\n",
    "\n",
    "- While Loop\n",
    "- For Loop"
   ]
  },
  {
   "cell_type": "markdown",
   "metadata": {},
   "source": [
    "#### While Loop"
   ]
  },
  {
   "cell_type": "code",
   "execution_count": 45,
   "metadata": {
    "id": "Ig7NIb7L7txg"
   },
   "outputs": [],
   "source": [
    "# While loop example -> program to print the table\n",
    "# Program -> Sum of all digits of a given number\n",
    "# Program -> keep accepting numbers from users till he/she enters a 0 and then find the avg"
   ]
  },
  {
   "cell_type": "code",
   "execution_count": 46,
   "metadata": {
    "colab": {
     "base_uri": "https://localhost:8080/"
    },
    "id": "brWSxgiu9rrQ",
    "outputId": "eb64e76c-ee60-4584-9d00-9fd6729d39e8"
   },
   "outputs": [
    {
     "name": "stdin",
     "output_type": "stream",
     "text": [
      "enter the number 10\n"
     ]
    },
    {
     "name": "stdout",
     "output_type": "stream",
     "text": [
      "10 * 1 = 10\n",
      "10 * 2 = 20\n",
      "10 * 3 = 30\n",
      "10 * 4 = 40\n",
      "10 * 5 = 50\n",
      "10 * 6 = 60\n",
      "10 * 7 = 70\n",
      "10 * 8 = 80\n",
      "10 * 9 = 90\n",
      "10 * 10 = 100\n"
     ]
    }
   ],
   "source": [
    "number = int(input('enter the number'))\n",
    "\n",
    "i = 1\n",
    "\n",
    "while i<11:\n",
    "  print(number,'*',i,'=',number * i)\n",
    "  i += 1"
   ]
  },
  {
   "cell_type": "raw",
   "metadata": {},
   "source": [
    "# python tutor website -> we can execute and visualize python code line by line\n",
    "\n",
    "https://pythontutor.com/visualize.html#mode=edit"
   ]
  },
  {
   "cell_type": "code",
   "execution_count": 48,
   "metadata": {
    "colab": {
     "base_uri": "https://localhost:8080/"
    },
    "id": "Ltsr9n3H73fp",
    "outputId": "a47f2a11-bf75-4a0a-923c-49f318514900"
   },
   "outputs": [
    {
     "name": "stdout",
     "output_type": "stream",
     "text": [
      "1\n",
      "2\n",
      "limit crossed\n"
     ]
    }
   ],
   "source": [
    "# while loop with else\n",
    "\n",
    "x = 1\n",
    "\n",
    "while x < 3:\n",
    "  print(x)\n",
    "  x += 1\n",
    "\n",
    "else:\n",
    "  print('limit crossed')"
   ]
  },
  {
   "cell_type": "code",
   "execution_count": null,
   "metadata": {
    "colab": {
     "base_uri": "https://localhost:8080/"
    },
    "id": "29y5r2cr8MRP",
    "outputId": "c4d707ce-6f6c-49cc-8997-a85ecf01e74e"
   },
   "outputs": [
    {
     "name": "stdout",
     "output_type": "stream",
     "text": [
      "guess karo7\n",
      "galat!guess higher\n",
      "guess karo50\n",
      "galat!guess lower\n",
      "guess karo30\n",
      "galat!guess higher\n",
      "guess karo40\n",
      "galat!guess lower\n",
      "guess karo35\n",
      "galat!guess lower\n",
      "guess karo32\n",
      "galat!guess higher\n",
      "guess karo33\n",
      "correct guess\n",
      "attempts 7\n"
     ]
    }
   ],
   "source": [
    "# Guessing game\n",
    "\n",
    "# generate a random integer between 1 and 100\n",
    "import random\n",
    "jackpot = random.randint(1,100)\n",
    "\n",
    "guess = int(input('guess karo'))\n",
    "counter = 1\n",
    "while guess != jackpot:\n",
    "  if guess < jackpot:\n",
    "    print('galat!guess higher')\n",
    "  else:\n",
    "    print('galat!guess lower')\n",
    "\n",
    "  guess = int(input('guess karo'))\n",
    "  counter += 1\n",
    "\n",
    "else:\n",
    "  print('correct guess')\n",
    "  print('attempts',counter)\n",
    "\n",
    "\n"
   ]
  },
  {
   "cell_type": "markdown",
   "metadata": {},
   "source": [
    "#### For Loop"
   ]
  },
  {
   "cell_type": "code",
   "execution_count": null,
   "metadata": {
    "colab": {
     "base_uri": "https://localhost:8080/"
    },
    "id": "bjjx0fMr8SWh",
    "outputId": "a3bf4676-a68c-499f-fc00-e0fe0f04285b"
   },
   "outputs": [
    {
     "name": "stdout",
     "output_type": "stream",
     "text": [
      "1\n",
      "2\n",
      "3\n",
      "4\n",
      "5\n"
     ]
    }
   ],
   "source": [
    "# For loop demo\n",
    "\n",
    "for i in {1,2,3,4,5}:\n",
    "  print(i)"
   ]
  },
  {
   "cell_type": "code",
   "execution_count": 49,
   "metadata": {},
   "outputs": [
    {
     "name": "stdout",
     "output_type": "stream",
     "text": [
      "1\n",
      "2\n",
      "3\n",
      "4\n",
      "5\n",
      "6\n",
      "7\n",
      "8\n",
      "9\n",
      "10\n"
     ]
    }
   ],
   "source": [
    "for i in range(1,11):\n",
    "    print(i)"
   ]
  },
  {
   "cell_type": "code",
   "execution_count": 52,
   "metadata": {},
   "outputs": [
    {
     "name": "stdout",
     "output_type": "stream",
     "text": [
      "1\n",
      "3\n",
      "5\n",
      "7\n",
      "9\n"
     ]
    }
   ],
   "source": [
    "#                   step size\n",
    "for i in range(1,11,2): # incremental jump is 2 / interval is 2 and then print\n",
    "    print(i)"
   ]
  },
  {
   "cell_type": "code",
   "execution_count": 54,
   "metadata": {},
   "outputs": [
    {
     "name": "stdout",
     "output_type": "stream",
     "text": [
      "1\n",
      "5\n",
      "9\n"
     ]
    }
   ],
   "source": [
    "for i in range(1,11,4): #interval is 4\n",
    "    print(i)"
   ]
  },
  {
   "cell_type": "code",
   "execution_count": 56,
   "metadata": {},
   "outputs": [
    {
     "name": "stdout",
     "output_type": "stream",
     "text": [
      "10\n",
      "9\n",
      "8\n",
      "7\n",
      "6\n",
      "5\n",
      "4\n",
      "3\n",
      "2\n",
      "1\n"
     ]
    }
   ],
   "source": [
    "for i in range(10,0,-1): #print in reverse\n",
    "    print(i)\n",
    "\n",
    "# in range first is included, second is not ex: range(10,0,-1)\n",
    "# -1 indicates increment of -1 ex: 10,9,8.....\n",
    "# 10 is included \n",
    "# 0 is not\n",
    "# Ex: 10,9,8.......1"
   ]
  },
  {
   "cell_type": "code",
   "execution_count": 57,
   "metadata": {},
   "outputs": [
    {
     "name": "stdout",
     "output_type": "stream",
     "text": [
      "D\n",
      "e\n",
      "l\n",
      "h\n",
      "i\n"
     ]
    }
   ],
   "source": [
    "for i in 'Delhi':\n",
    "    print(i)"
   ]
  },
  {
   "cell_type": "code",
   "execution_count": null,
   "metadata": {},
   "outputs": [],
   "source": [
    "# we can iterate on a string, list, tuple, set, dict....."
   ]
  },
  {
   "cell_type": "code",
   "execution_count": null,
   "metadata": {
    "id": "5ZLWEyFn8g1R"
   },
   "outputs": [],
   "source": [
    "# For loop examples"
   ]
  },
  {
   "cell_type": "markdown",
   "metadata": {
    "id": "EXnzCtohWx2V"
   },
   "source": [
    "### Program - The current population of a town is 10000. The population of the town is increasing at the rate of 10% per year. You have to write a program to find out the population at the end of each of the last 10 years."
   ]
  },
  {
   "cell_type": "raw",
   "metadata": {},
   "source": [
    "Meaning we have to find, for example: population of\n",
    "2019\n",
    "2018\n",
    "2017\n",
    ".\n",
    ".\n",
    ".\n",
    ".\n",
    ".\n",
    "\n",
    "the population is increasing by 10% every year\n",
    "So decrement the population by 10% for finding the pop in reverse(2018, 2017,....)\n",
    "\n",
    "ex: to calc let's see\n",
    "population in 9th year = x\n",
    "10th year population = 10000\n",
    "x + 10% of  x = 10000 (as population increases by 10% each year)\n",
    "x + 0.1x = 10000\n",
    "1.1x = 10000\n",
    "x = 10000/1.1\n",
    "\n",
    "prev year population = current year population/1.1\n"
   ]
  },
  {
   "cell_type": "code",
   "execution_count": 58,
   "metadata": {
    "colab": {
     "base_uri": "https://localhost:8080/"
    },
    "id": "Nc_6lslRW03g",
    "outputId": "c8f8383d-eef0-440d-9a7e-2a0f911d51fa"
   },
   "outputs": [
    {
     "name": "stdout",
     "output_type": "stream",
     "text": [
      "10 10000\n",
      "9 9090.90909090909\n",
      "8 8264.462809917353\n",
      "7 7513.148009015775\n",
      "6 6830.134553650703\n",
      "5 6209.213230591548\n",
      "4 5644.739300537771\n",
      "3 5131.5811823070635\n",
      "2 4665.07380209733\n",
      "1 4240.976183724845\n"
     ]
    }
   ],
   "source": [
    "curr_pop = 10000\n",
    "\n",
    "for i in range(10,0,-1):\n",
    "  print(i,curr_pop)\n",
    "  curr_pop = curr_pop/1.1\n"
   ]
  },
  {
   "cell_type": "markdown",
   "metadata": {
    "id": "4xVI9HkgcEla"
   },
   "source": [
    "### Sequence sum\n",
    "\n",
    "1/1! + 2/2! + 3/3! + ..."
   ]
  },
  {
   "cell_type": "code",
   "execution_count": 61,
   "metadata": {
    "id": "wGC1eCDecPcB"
   },
   "outputs": [
    {
     "name": "stdin",
     "output_type": "stream",
     "text": [
      "enter n 5\n"
     ]
    },
    {
     "name": "stdout",
     "output_type": "stream",
     "text": [
      "2.708333333333333\n"
     ]
    }
   ],
   "source": [
    "# find sum till nth term (n is given by user)\n",
    "\n",
    "n = int(input(\"enter n\"))\n",
    "\n",
    "result = 0\n",
    "fact = 1\n",
    "for i in range(1,n+1): # loop will run for 1 --> n since first term in range is included(1) and second term is excluded(n+1)\n",
    "    fact = fact * i \n",
    "    result = result + i/fact\n",
    "\n",
    "print(result)\n"
   ]
  },
  {
   "cell_type": "code",
   "execution_count": null,
   "metadata": {
    "id": "PNLWd1WR8dSw"
   },
   "outputs": [],
   "source": [
    "# For loop vs While loops (When to use what?)"
   ]
  },
  {
   "cell_type": "markdown",
   "metadata": {
    "id": "1bdP8FTX87Du"
   },
   "source": [
    "# Nested Loops"
   ]
  },
  {
   "cell_type": "raw",
   "metadata": {},
   "source": [
    "loop inside loop"
   ]
  },
  {
   "cell_type": "code",
   "execution_count": 64,
   "metadata": {
    "id": "-YY5edV98lXq"
   },
   "outputs": [
    {
     "name": "stdout",
     "output_type": "stream",
     "text": [
      "1 1\n",
      "1 2\n",
      "1 3\n",
      "1 4\n",
      "2 1\n",
      "2 2\n",
      "2 3\n",
      "2 4\n",
      "3 1\n",
      "3 2\n",
      "3 3\n",
      "3 4\n",
      "4 1\n",
      "4 2\n",
      "4 3\n",
      "4 4\n"
     ]
    }
   ],
   "source": [
    "# Examples -> Unique Pairs\n",
    "\n",
    "\n",
    "for i in range(1,5):\n",
    "    for j in range(1,5):\n",
    "        print(i,j)"
   ]
  },
  {
   "cell_type": "code",
   "execution_count": null,
   "metadata": {
    "id": "Ym8nRkqxGXLN"
   },
   "outputs": [],
   "source": [
    "# Program - Unique combination of 1,2,3,4\n",
    "# Program - Pattern 1 and 2"
   ]
  },
  {
   "cell_type": "markdown",
   "metadata": {
    "id": "_Hz8L0f3c_3P"
   },
   "source": [
    "### Pattern 1\n",
    "\n"
   ]
  },
  {
   "cell_type": "raw",
   "metadata": {},
   "source": [
    "*\n",
    "**\n",
    "***"
   ]
  },
  {
   "cell_type": "code",
   "execution_count": 69,
   "metadata": {},
   "outputs": [
    {
     "name": "stdin",
     "output_type": "stream",
     "text": [
      "enter number of rows 5\n"
     ]
    },
    {
     "name": "stdout",
     "output_type": "stream",
     "text": [
      "*\n",
      "*\n",
      "*\n",
      "*\n",
      "*\n"
     ]
    }
   ],
   "source": [
    "rows = int(input('enter number of rows'))\n",
    "\n",
    "for i in range(1,rows+1):\n",
    "    print('*') # prints star in each row but not in our desired pattern"
   ]
  },
  {
   "cell_type": "code",
   "execution_count": 68,
   "metadata": {
    "id": "YsL_YmxRdNrn"
   },
   "outputs": [
    {
     "name": "stdin",
     "output_type": "stream",
     "text": [
      "enter number of rows 5\n"
     ]
    },
    {
     "name": "stdout",
     "output_type": "stream",
     "text": [
      "*\n",
      "*\n",
      "*\n",
      "*\n",
      "*\n",
      "*\n",
      "*\n",
      "*\n",
      "*\n",
      "*\n",
      "*\n",
      "*\n",
      "*\n",
      "*\n",
      "*\n"
     ]
    }
   ],
   "source": [
    "rows = int(input('enter number of rows'))\n",
    "\n",
    "for i in range(1,rows+1):\n",
    "    for j in range(1,i+1):\n",
    "        print('*') # it does print the required no of stars but it prints them in new line\n",
    "# we want to print row no of stars in every row\n",
    "#ex:\n",
    "# *\n",
    "# **\n",
    "# *** \n",
    "# ..... and so on"
   ]
  },
  {
   "cell_type": "code",
   "execution_count": 70,
   "metadata": {},
   "outputs": [
    {
     "name": "stdout",
     "output_type": "stream",
     "text": [
      "***************"
     ]
    }
   ],
   "source": [
    "for i in range(1,rows+1):\n",
    "    for j in range(1,i+1):\n",
    "        print('*', end = '') # prints the req no of stars but all in a single line\n",
    "# not in our pattern"
   ]
  },
  {
   "cell_type": "code",
   "execution_count": 72,
   "metadata": {},
   "outputs": [
    {
     "name": "stdout",
     "output_type": "stream",
     "text": [
      "*\n",
      "**\n",
      "***\n",
      "****\n",
      "*****\n"
     ]
    }
   ],
   "source": [
    "for i in range(1,rows+1):\n",
    "    for j in range(1,i+1):\n",
    "        print('*', end = '')\n",
    "    print() # using the print func to change the line so that all starts don't print in a single line"
   ]
  },
  {
   "cell_type": "markdown",
   "metadata": {
    "id": "eVAO3tVmdOWV"
   },
   "source": [
    "### Pattern 2\n",
    "\n",
    "1<br>\n",
    "121<br>\n",
    "12321<br>\n",
    "1234321<br>"
   ]
  },
  {
   "cell_type": "code",
   "execution_count": 74,
   "metadata": {
    "id": "sHW4YJqcdXzw"
   },
   "outputs": [
    {
     "name": "stdin",
     "output_type": "stream",
     "text": [
      "enter number of rows 5\n"
     ]
    },
    {
     "name": "stdout",
     "output_type": "stream",
     "text": [
      "1\n",
      "12\n",
      "123\n",
      "1234\n",
      "12345\n"
     ]
    }
   ],
   "source": [
    "rows = int(input('enter number of rows'))\n",
    "\n",
    "for i in range(1, rows+1):\n",
    "    for j in range(1,i+1):\n",
    "        print(j,end='')\n",
    "    print()\n",
    "\n"
   ]
  },
  {
   "cell_type": "code",
   "execution_count": 77,
   "metadata": {},
   "outputs": [
    {
     "name": "stdin",
     "output_type": "stream",
     "text": [
      "enter number of rows 5\n"
     ]
    },
    {
     "name": "stdout",
     "output_type": "stream",
     "text": [
      "1\n",
      "121\n",
      "12321\n",
      "1234321\n",
      "123454321\n"
     ]
    }
   ],
   "source": [
    "rows = int(input('enter number of rows'))\n",
    "\n",
    "for i in range(1, rows+1):\n",
    "    for j in range(1,i+1):\n",
    "        print(j,end='')\n",
    "    for k in range(i-1,0,-1): # negative loop ex: 321\n",
    "        print(k,end='')\n",
    "    print()"
   ]
  },
  {
   "cell_type": "markdown",
   "metadata": {
    "id": "8GccSRIt891U"
   },
   "source": [
    "# Loop Control Statement\n",
    "\n",
    "- Break\n",
    "- Continue\n",
    "- Pass"
   ]
  },
  {
   "cell_type": "markdown",
   "metadata": {},
   "source": [
    "### Break"
   ]
  },
  {
   "cell_type": "code",
   "execution_count": null,
   "metadata": {
    "id": "kN9s2dG89DlJ"
   },
   "outputs": [],
   "source": [
    "# if a condition is met we can break the loop"
   ]
  },
  {
   "cell_type": "code",
   "execution_count": 78,
   "metadata": {},
   "outputs": [
    {
     "name": "stdout",
     "output_type": "stream",
     "text": [
      "1\n",
      "2\n",
      "3\n",
      "4\n",
      "5\n",
      "6\n",
      "7\n",
      "8\n",
      "9\n"
     ]
    }
   ],
   "source": [
    "# Break demo\n",
    "for i in range(1,10):\n",
    "    print(i)"
   ]
  },
  {
   "cell_type": "code",
   "execution_count": 79,
   "metadata": {},
   "outputs": [
    {
     "name": "stdout",
     "output_type": "stream",
     "text": [
      "1\n",
      "2\n",
      "3\n",
      "4\n"
     ]
    }
   ],
   "source": [
    "for i in range(1,10):\n",
    "    if i == 5:\n",
    "        break\n",
    "    print(i)"
   ]
  },
  {
   "cell_type": "code",
   "execution_count": null,
   "metadata": {},
   "outputs": [],
   "source": [
    "# Real life Example of Break --> Searching in a Database\n",
    "# Ex: Finding for a name in 1 lakh entries --> found the name in the 50th entry --> therefore will stop won't unecessarily continue further\n",
    "\n",
    "# Linear Searching is an example of Break"
   ]
  },
  {
   "cell_type": "code",
   "execution_count": null,
   "metadata": {
    "id": "u09EdMCm9FK_"
   },
   "outputs": [],
   "source": [
    "# Break example (Linear Search) ->Print Prime numbers in a given range"
   ]
  },
  {
   "cell_type": "code",
   "execution_count": 6,
   "metadata": {},
   "outputs": [
    {
     "name": "stdin",
     "output_type": "stream",
     "text": [
      "enter lower range 10\n",
      "enter upper range 100\n"
     ]
    },
    {
     "name": "stdout",
     "output_type": "stream",
     "text": [
      "11\n",
      "13\n",
      "17\n",
      "19\n",
      "23\n",
      "29\n",
      "31\n",
      "37\n",
      "41\n",
      "43\n",
      "47\n",
      "53\n",
      "59\n",
      "61\n",
      "67\n",
      "71\n",
      "73\n",
      "79\n",
      "83\n",
      "89\n",
      "97\n"
     ]
    }
   ],
   "source": [
    "# lower range\n",
    "lower = int(input('enter lower range'))\n",
    "# Upper Range\n",
    "upper = int(input('enter upper range'))\n",
    "\n",
    "# This program finds and prints all prime numbers in a given range.\n",
    "# For each number i in the range [lower, upper]:\n",
    "#   - We check if it has any divisors other than 1 and itself.\n",
    "#   - This is done by testing divisibility from 2 up to i-1.\n",
    "#   - If any number divides i evenly (i % j == 0), it's not a prime, so we break.\n",
    "#   - If no divisors are found (the loop completes without breaking), i is a prime and we print it.\n",
    "for i in range(lower, upper+1):\n",
    "    for j in range(2,i):\n",
    "        if i%j == 0:\n",
    "            break\n",
    "    else:\n",
    "        print(i)"
   ]
  },
  {
   "cell_type": "markdown",
   "metadata": {},
   "source": [
    "### Continue\n",
    "\n",
    "skips the current iteration code \n",
    "\n",
    "EX:"
   ]
  },
  {
   "cell_type": "code",
   "execution_count": 9,
   "metadata": {
    "id": "3q5asa2l9GYy"
   },
   "outputs": [
    {
     "name": "stdout",
     "output_type": "stream",
     "text": [
      "1\n",
      "2\n",
      "3\n",
      "4\n",
      "6\n",
      "7\n",
      "8\n",
      "9\n"
     ]
    }
   ],
   "source": [
    "# Continue demo\n",
    "for i in range(1,10):\n",
    "    if i == 5:\n",
    "        continue\n",
    "    print(i)\n",
    "\n",
    "# the code skips when 5 comes, other prints every other number\n",
    "# that's what continue does\n",
    "\n",
    "# continue skips the next code lines of the particular iteration\n",
    "# like for 5 it skipped the next code line -> print(i) and moved to next iteration."
   ]
  },
  {
   "cell_type": "code",
   "execution_count": null,
   "metadata": {},
   "outputs": [],
   "source": [
    "# Break -> breaks the loop\n",
    "# continue -> skips the next code lines of the current iteration and moves to the next iteration"
   ]
  },
  {
   "cell_type": "code",
   "execution_count": null,
   "metadata": {
    "id": "cA8CiMgn9IIT"
   },
   "outputs": [],
   "source": [
    "# Real life Example of Continue\n",
    "\n",
    "# Displaying products on an ecommerce website and skip displaying out of stock products\n",
    "# run a loop and check current product stock , if 0 continue(skip) and move to the next product"
   ]
  },
  {
   "cell_type": "markdown",
   "metadata": {},
   "source": [
    "### Pass"
   ]
  },
  {
   "cell_type": "code",
   "execution_count": 10,
   "metadata": {
    "id": "P7GB16j59J-3"
   },
   "outputs": [
    {
     "ename": "SyntaxError",
     "evalue": "incomplete input (109843861.py, line 2)",
     "output_type": "error",
     "traceback": [
      "\u001b[1;36m  Cell \u001b[1;32mIn[10], line 2\u001b[1;36m\u001b[0m\n\u001b[1;33m    for i in range(1,10):\u001b[0m\n\u001b[1;37m                         ^\u001b[0m\n\u001b[1;31mSyntaxError\u001b[0m\u001b[1;31m:\u001b[0m incomplete input\n"
     ]
    }
   ],
   "source": [
    "# Pass demo\n",
    "for i in range(1,10):"
   ]
  },
  {
   "cell_type": "code",
   "execution_count": 11,
   "metadata": {},
   "outputs": [],
   "source": [
    "for i in range(1,10):\n",
    "    pass"
   ]
  },
  {
   "cell_type": "code",
   "execution_count": null,
   "metadata": {},
   "outputs": [],
   "source": [
    "# `Pass` tells the interpreter to not throw an error , we would be writing some code here."
   ]
  }
 ],
 "metadata": {
  "colab": {
   "provenance": []
  },
  "kernelspec": {
   "display_name": "Python 3 (ipykernel)",
   "language": "python",
   "name": "python3"
  },
  "language_info": {
   "codemirror_mode": {
    "name": "ipython",
    "version": 3
   },
   "file_extension": ".py",
   "mimetype": "text/x-python",
   "name": "python",
   "nbconvert_exporter": "python",
   "pygments_lexer": "ipython3",
   "version": "3.11.7"
  }
 },
 "nbformat": 4,
 "nbformat_minor": 4
}
