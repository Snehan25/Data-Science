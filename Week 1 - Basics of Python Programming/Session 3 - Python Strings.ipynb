{
 "cells": [
  {
   "cell_type": "markdown",
   "id": "a8deec74-8e17-433e-8a25-19319dec8a5c",
   "metadata": {},
   "source": [
    "Strings are sequence of Characters\n",
    "\n",
    "In Python specifically, strings are a sequence of **Unicode** Characters\n",
    "\n",
    "- Creating Strings\n",
    "- Accessing Strings\n",
    "- Adding Chars to Strings\n",
    "- Editing Strings\n",
    "- Deleting Strings\n",
    "- Operations on Strings\n",
    "- String Functions"
   ]
  },
  {
   "cell_type": "markdown",
   "id": "82fbc214-5af8-42fd-80db-8438cba04610",
   "metadata": {},
   "source": [
    "**Diff between ASCII and Unicode**\n",
    "\n",
    "https://docs.python.org/3/howto/unicode.html\n",
    "\n",
    "\n",
    "In c++ ASCII chars are used but in python Unicode chars are used\n",
    "\n",
    "initially 8 bits computers were introduced --> To store a char they used 8 bit value (256 distinct values)--> small range, less chars were represented inside our machine --> ASCII failed as computers advanced \n",
    "\n",
    "16 bit char set was introduced(Unicode) , 2^16 bits combination --> can store a lot many chars from diff languages , even smileys etc --> therefore unicode was introduced and Python uses unicode.\n",
    "\n",
    "**Python characters are Unicode characters.**\n"
   ]
  },
  {
   "cell_type": "code",
   "execution_count": 4,
   "id": "c81e4472-57e3-448d-9660-b2e8c94ddc93",
   "metadata": {},
   "outputs": [
    {
     "name": "stdout",
     "output_type": "stream",
     "text": [
      "hello\n"
     ]
    }
   ],
   "source": [
    "s = 'hello'\n",
    "s = \"hello\"\n",
    "\n",
    "# multiline strings\n",
    "s = '''hello'''\n",
    "s = \"\"\"hello\"\"\"\n",
    "s = str('hello')\n",
    "print(s)"
   ]
  },
  {
   "cell_type": "raw",
   "id": "51f413a8-1aec-4c84-a4d5-58cc74f8dd58",
   "metadata": {},
   "source": [
    "why so many options?\n",
    "let's understand it's utility\n",
    "\n",
    "'it's raining outside' -> our python gets confused between apostrophe and inverted commas(quotation marks used for strings) \n",
    "\n",
    "therefore we use double inverted commas for these kind of scenarios\n",
    "\n",
    "therefore we are provided with the option of single inverted commas and double inverted commas\n",
    "\n",
    "triple inverted commas?\n",
    "for multiline strings "
   ]
  },
  {
   "cell_type": "code",
   "execution_count": 6,
   "id": "8d913414-31c6-4a88-afbb-66f06d1f9918",
   "metadata": {},
   "outputs": [
    {
     "ename": "SyntaxError",
     "evalue": "unterminated string literal (detected at line 1) (1304262139.py, line 1)",
     "output_type": "error",
     "traceback": [
      "\u001b[1;36m  Cell \u001b[1;32mIn[6], line 1\u001b[1;36m\u001b[0m\n\u001b[1;33m    'it's raining outside'\u001b[0m\n\u001b[1;37m                         ^\u001b[0m\n\u001b[1;31mSyntaxError\u001b[0m\u001b[1;31m:\u001b[0m unterminated string literal (detected at line 1)\n"
     ]
    }
   ],
   "source": [
    "'it's raining outside'"
   ]
  },
  {
   "cell_type": "code",
   "execution_count": 3,
   "id": "f9fd334e-aca7-4bca-9b2c-0957db55e2a0",
   "metadata": {},
   "outputs": [
    {
     "data": {
      "text/plain": [
       "\"it's raining outside\""
      ]
     },
     "execution_count": 3,
     "metadata": {},
     "output_type": "execute_result"
    }
   ],
   "source": [
    "\"it's raining outside\""
   ]
  },
  {
   "cell_type": "markdown",
   "id": "ee2165bd-6d9a-4059-a22d-6cd9dbc105d4",
   "metadata": {},
   "source": [
    "## Accessing Substrings from a String"
   ]
  },
  {
   "cell_type": "code",
   "execution_count": null,
   "id": "29dbba29-8530-4405-9ef5-ee405b3f37eb",
   "metadata": {},
   "outputs": [],
   "source": [
    "# Indexing\n",
    "# python internally assigns index pos to char\n",
    "# ex:\n"
   ]
  },
  {
   "cell_type": "code",
   "execution_count": 10,
   "id": "c0c2c8c1-bad1-4e2e-a2dd-1cd6ef134937",
   "metadata": {},
   "outputs": [
    {
     "name": "stdout",
     "output_type": "stream",
     "text": [
      "H\n",
      "l\n"
     ]
    },
    {
     "ename": "IndexError",
     "evalue": "string index out of range",
     "output_type": "error",
     "traceback": [
      "\u001b[1;31m---------------------------------------------------------------------------\u001b[0m",
      "\u001b[1;31mIndexError\u001b[0m                                Traceback (most recent call last)",
      "Cell \u001b[1;32mIn[10], line 7\u001b[0m\n\u001b[0;32m      4\u001b[0m \u001b[38;5;28mprint\u001b[39m(s[\u001b[38;5;241m0\u001b[39m])\n\u001b[0;32m      5\u001b[0m \u001b[38;5;28mprint\u001b[39m(s[\u001b[38;5;241m3\u001b[39m])\n\u001b[1;32m----> 7\u001b[0m \u001b[38;5;28mprint\u001b[39m(s[\u001b[38;5;241m41\u001b[39m])\n",
      "\u001b[1;31mIndexError\u001b[0m: string index out of range"
     ]
    }
   ],
   "source": [
    "#Positive indexing --> index assigned to char from 0 to ..... \n",
    "# --> Indexing done from left to right\n",
    "\n",
    "s = 'Hello World'\n",
    "print(s[0])\n",
    "print(s[3])\n",
    "\n",
    "print(s[41]) # error , we don't have that many char to index till 41"
   ]
  },
  {
   "cell_type": "code",
   "execution_count": 12,
   "id": "4f89bd43-efc2-4026-8239-c1c4a45150b4",
   "metadata": {},
   "outputs": [
    {
     "name": "stdout",
     "output_type": "stream",
     "text": [
      "d\n",
      "l\n",
      "r\n"
     ]
    }
   ],
   "source": [
    "# Negative Indexing --> last char assigned as index -1, second last char as -2, and so on....\n",
    "# --> deals with negative index --> indexing done from right to left\n",
    "\n",
    "print(s[-1])\n",
    "print(s[-2])\n",
    "print(s[-3])"
   ]
  },
  {
   "cell_type": "code",
   "execution_count": null,
   "id": "1e02df46-ff2f-4f43-8b77-fc28e2ebb17f",
   "metadata": {},
   "outputs": [],
   "source": [
    "# what if instead of extracting one char , we want to extract multiple char or an \n",
    "# substring ? --> for that we do slicing"
   ]
  },
  {
   "cell_type": "code",
   "execution_count": 13,
   "id": "22249931-99ae-4675-81c7-d5d5a417bfb5",
   "metadata": {},
   "outputs": [
    {
     "name": "stdout",
     "output_type": "stream",
     "text": [
      "Hello\n"
     ]
    }
   ],
   "source": [
    "# Slicing --> helps to extract more than one char\n",
    "\n",
    "print(s[0:5])\n",
    "\n",
    "# specify a range ex: 0 to 5 --> is actually 0 to 4 (5 is not included) \n",
    "# --> range is [0,5) --> [ meaning index included , ) meaning index not included"
   ]
  },
  {
   "cell_type": "code",
   "execution_count": 15,
   "id": "7b266d66-dab7-435b-acf9-bbe7b056a001",
   "metadata": {},
   "outputs": [
    {
     "name": "stdout",
     "output_type": "stream",
     "text": [
      "l\n"
     ]
    }
   ],
   "source": [
    "print(s[2:3]) # range is from [2,3) --> index 2 included, 3 not included --> hence only index 2 will be printed"
   ]
  },
  {
   "cell_type": "code",
   "execution_count": 20,
   "id": "2746c75e-74e6-45a2-a942-2b822b21b530",
   "metadata": {},
   "outputs": [
    {
     "name": "stdout",
     "output_type": "stream",
     "text": [
      "llo World\n"
     ]
    }
   ],
   "source": [
    "# skipping ending range\n",
    "print(s[2:]) # from index 2 till end"
   ]
  },
  {
   "cell_type": "code",
   "execution_count": 21,
   "id": "c37a96ad-ad1b-4bfe-8074-88b6d43d9c90",
   "metadata": {},
   "outputs": [
    {
     "name": "stdout",
     "output_type": "stream",
     "text": [
      "Hel\n"
     ]
    }
   ],
   "source": [
    "# skipping starting range\n",
    "print(s[:3]) # from index 0 to n-1 i.e 3-1 = 2 --> from index 0 to 2"
   ]
  },
  {
   "cell_type": "code",
   "execution_count": 22,
   "id": "cd552150-c115-4159-a1ea-0a8005a1f3eb",
   "metadata": {},
   "outputs": [
    {
     "name": "stdout",
     "output_type": "stream",
     "text": [
      "Hello World\n"
     ]
    }
   ],
   "source": [
    "print(s[:]) # skipping both range --> prints the whole string"
   ]
  },
  {
   "cell_type": "code",
   "execution_count": 25,
   "id": "78e792fb-c75d-497c-b7e2-59cbec844db1",
   "metadata": {},
   "outputs": [
    {
     "name": "stdout",
     "output_type": "stream",
     "text": [
      "Hlo\n"
     ]
    }
   ],
   "source": [
    "# step size\n",
    "print(s[0:6:2]) # range from 0 to 5(n-1 = 6-1) with increment/step size/jump of 2"
   ]
  },
  {
   "cell_type": "code",
   "execution_count": 26,
   "id": "d8703698-61c3-4772-b657-d45331c3e0c6",
   "metadata": {},
   "outputs": [
    {
     "name": "stdout",
     "output_type": "stream",
     "text": [
      "Hl\n"
     ]
    }
   ],
   "source": [
    "print(s[0:6:3])"
   ]
  },
  {
   "cell_type": "code",
   "execution_count": 29,
   "id": "527dff63-b838-410e-9851-3cad28822f2d",
   "metadata": {},
   "outputs": [
    {
     "name": "stdout",
     "output_type": "stream",
     "text": [
      "\n"
     ]
    }
   ],
   "source": [
    "print(s[0:6:-1]) # Won't work"
   ]
  },
  {
   "cell_type": "markdown",
   "id": "4b3188f3-f08a-4a7a-a497-08df9ab63405",
   "metadata": {},
   "source": [
    "**If we are taking a neg step size keep in mind first number in range should be bigger than second number (basically do reverse numbering)ex: instead of 0:6 do 6:0**"
   ]
  },
  {
   "cell_type": "code",
   "execution_count": 28,
   "id": "747471ff-9f1f-4c62-98df-3adb7998084e",
   "metadata": {},
   "outputs": [
    {
     "name": "stdout",
     "output_type": "stream",
     "text": [
      "W olle\n"
     ]
    }
   ],
   "source": [
    "print(s[6:0:-1]) # -1 indicates printing in reverse"
   ]
  },
  {
   "cell_type": "code",
   "execution_count": 30,
   "id": "41dbc122-b3ba-4a37-8b03-2045826efc4b",
   "metadata": {},
   "outputs": [
    {
     "name": "stdout",
     "output_type": "stream",
     "text": [
      "Wol\n"
     ]
    }
   ],
   "source": [
    "print(s[6:0:-2])"
   ]
  },
  {
   "cell_type": "code",
   "execution_count": 32,
   "id": "38950293-f10b-4435-a937-ae9524ca71d8",
   "metadata": {},
   "outputs": [
    {
     "name": "stdout",
     "output_type": "stream",
     "text": [
      "dlroW olleH\n"
     ]
    }
   ],
   "source": [
    "print(s[::-1]) # reverse a string"
   ]
  },
  {
   "cell_type": "code",
   "execution_count": 36,
   "id": "3ec5909f-f1f8-4607-8204-3538f5b206c5",
   "metadata": {},
   "outputs": [
    {
     "name": "stdout",
     "output_type": "stream",
     "text": [
      "Worl\n"
     ]
    }
   ],
   "source": [
    "# Slicing with Negative Index\n",
    "n = 'Hello World'\n",
    "\n",
    "# printing 'world'\n",
    "print(n[-5:-1])"
   ]
  },
  {
   "cell_type": "code",
   "execution_count": 37,
   "id": "f2e966b0-8dfb-4828-bd63-45b39728f8e0",
   "metadata": {},
   "outputs": [
    {
     "name": "stdout",
     "output_type": "stream",
     "text": [
      "World\n"
     ]
    }
   ],
   "source": [
    "print(n[-5:])"
   ]
  },
  {
   "cell_type": "markdown",
   "id": "5973ceda-808c-4636-ae34-ca1f6485b309",
   "metadata": {},
   "source": [
    "**If we are taking a neg step size keep in mind first number in range should be bigger than second number (basically do reverse numbering)ex: instead of -6:-1 do -1:-6**"
   ]
  },
  {
   "cell_type": "code",
   "execution_count": 39,
   "id": "88a30521-1d8d-47b6-848a-1bde10cb4b67",
   "metadata": {},
   "outputs": [
    {
     "name": "stdout",
     "output_type": "stream",
     "text": [
      "dlroW\n"
     ]
    }
   ],
   "source": [
    "#printing 'world' in reverse\n",
    "print(s[-1:-6:-1])"
   ]
  },
  {
   "cell_type": "markdown",
   "id": "328a5298-1c1d-4c14-8dc9-d8c1f9b5106e",
   "metadata": {},
   "source": [
    "## Editing and Deleting in Strings"
   ]
  },
  {
   "cell_type": "code",
   "execution_count": 41,
   "id": "b4634365-e97b-4640-b760-7fe6635e9abc",
   "metadata": {},
   "outputs": [
    {
     "ename": "TypeError",
     "evalue": "'str' object does not support item assignment",
     "output_type": "error",
     "traceback": [
      "\u001b[1;31m---------------------------------------------------------------------------\u001b[0m",
      "\u001b[1;31mTypeError\u001b[0m                                 Traceback (most recent call last)",
      "Cell \u001b[1;32mIn[41], line 3\u001b[0m\n\u001b[0;32m      1\u001b[0m s \u001b[38;5;241m=\u001b[39m \u001b[38;5;124m'\u001b[39m\u001b[38;5;124mhello world\u001b[39m\u001b[38;5;124m'\u001b[39m\n\u001b[1;32m----> 3\u001b[0m s[\u001b[38;5;241m0\u001b[39m] \u001b[38;5;241m=\u001b[39m \u001b[38;5;124m'\u001b[39m\u001b[38;5;124mH\u001b[39m\u001b[38;5;124m'\u001b[39m\n",
      "\u001b[1;31mTypeError\u001b[0m: 'str' object does not support item assignment"
     ]
    }
   ],
   "source": [
    "s = 'hello world'\n",
    "\n",
    "s[0] = 'H'\n",
    "\n",
    "# Won't Work --> we cannot change a string once made\n",
    "\n",
    "# Also called as Immutability\n",
    "\n",
    "# Python Strings are Immutable(cannot be changed)"
   ]
  },
  {
   "cell_type": "code",
   "execution_count": null,
   "id": "0563bca7-4ee6-40b3-a856-7ed25536081a",
   "metadata": {},
   "outputs": [],
   "source": [
    "# Deleting a string"
   ]
  },
  {
   "cell_type": "code",
   "execution_count": 44,
   "id": "9ea014bd-2285-47b4-99e0-e69c5e7a6608",
   "metadata": {},
   "outputs": [
    {
     "ename": "NameError",
     "evalue": "name 's' is not defined",
     "output_type": "error",
     "traceback": [
      "\u001b[1;31m---------------------------------------------------------------------------\u001b[0m",
      "\u001b[1;31mNameError\u001b[0m                                 Traceback (most recent call last)",
      "Cell \u001b[1;32mIn[44], line 4\u001b[0m\n\u001b[0;32m      1\u001b[0m s \u001b[38;5;241m=\u001b[39m \u001b[38;5;124m'\u001b[39m\u001b[38;5;124mhello world\u001b[39m\u001b[38;5;124m'\u001b[39m\n\u001b[0;32m      3\u001b[0m \u001b[38;5;28;01mdel\u001b[39;00m s\n\u001b[1;32m----> 4\u001b[0m \u001b[38;5;28mprint\u001b[39m(s)\n",
      "\u001b[1;31mNameError\u001b[0m: name 's' is not defined"
     ]
    }
   ],
   "source": [
    "s = 'hello world'\n",
    "\n",
    "del s\n",
    "print(s)\n"
   ]
  },
  {
   "cell_type": "code",
   "execution_count": 45,
   "id": "05dc0a90-3322-4c02-9cd5-296568ce3ff4",
   "metadata": {},
   "outputs": [
    {
     "ename": "TypeError",
     "evalue": "'str' object does not support item deletion",
     "output_type": "error",
     "traceback": [
      "\u001b[1;31m---------------------------------------------------------------------------\u001b[0m",
      "\u001b[1;31mTypeError\u001b[0m                                 Traceback (most recent call last)",
      "Cell \u001b[1;32mIn[45], line 2\u001b[0m\n\u001b[0;32m      1\u001b[0m s \u001b[38;5;241m=\u001b[39m \u001b[38;5;124m'\u001b[39m\u001b[38;5;124mhello world\u001b[39m\u001b[38;5;124m'\u001b[39m\n\u001b[1;32m----> 2\u001b[0m \u001b[38;5;28;01mdel\u001b[39;00m s[\u001b[38;5;241m-\u001b[39m\u001b[38;5;241m1\u001b[39m:\u001b[38;5;241m-\u001b[39m\u001b[38;5;241m5\u001b[39m:\u001b[38;5;241m2\u001b[39m]\n\u001b[0;32m      3\u001b[0m \u001b[38;5;28mprint\u001b[39m(s)\n",
      "\u001b[1;31mTypeError\u001b[0m: 'str' object does not support item deletion"
     ]
    }
   ],
   "source": [
    "s = 'hello world'\n",
    "del s[-1:-5:2]\n",
    "print(s)\n",
    "\n",
    "# Error --> using slicing we cannot delete a portion of our string\n",
    "# deleting a portion of our string means changing our string\n",
    "# not possible in python --> strings are immutable(changes not allowed in a string)"
   ]
  },
  {
   "cell_type": "code",
   "execution_count": null,
   "id": "88b404da-e4a3-4d2c-b110-c4e95e7607ec",
   "metadata": {},
   "outputs": [],
   "source": [
    "# therefore a string is fully deleted but cannot be partially deleted"
   ]
  },
  {
   "cell_type": "markdown",
   "id": "433f26a0-7eeb-4411-bab2-e5459f35f92a",
   "metadata": {},
   "source": [
    "## Operations on Strings\r\n",
    "\r\n",
    "- Arithmetic Operations\r\n",
    "- Relational Operations\r\n",
    "- Logical Operations\r\n",
    "- Loops on Strings\r\n",
    "- Membership Operations"
   ]
  },
  {
   "cell_type": "code",
   "execution_count": null,
   "id": "c95cd2b2-4142-481e-9059-b76f4930c7ce",
   "metadata": {},
   "outputs": [],
   "source": [
    "# Arithmetic Operator --> only addition and multiplication works on strings\n",
    "# sub, division, mod doesn't work on strings"
   ]
  },
  {
   "cell_type": "code",
   "execution_count": 46,
   "id": "ad28d5e9-0542-418a-a6c9-f6fdf0d1aea5",
   "metadata": {},
   "outputs": [
    {
     "name": "stdout",
     "output_type": "stream",
     "text": [
      "delhi mumbai\n"
     ]
    }
   ],
   "source": [
    "print('delhi' + ' ' + 'mumbai')"
   ]
  },
  {
   "cell_type": "code",
   "execution_count": 50,
   "id": "840e11c8-83cd-403d-aeb1-b35adbbabd97",
   "metadata": {},
   "outputs": [
    {
     "name": "stdout",
     "output_type": "stream",
     "text": [
      "delhi delhi delhi delhi delhi \n"
     ]
    }
   ],
   "source": [
    "print('delhi '*5)"
   ]
  },
  {
   "cell_type": "code",
   "execution_count": 51,
   "id": "d0760181-393e-4fcd-bb00-718dfc466538",
   "metadata": {},
   "outputs": [
    {
     "name": "stdout",
     "output_type": "stream",
     "text": [
      "**************************************************\n"
     ]
    }
   ],
   "source": [
    "print(\"*\"*50)"
   ]
  },
  {
   "cell_type": "code",
   "execution_count": null,
   "id": "cdd8285a-ed04-46de-84ca-4b95c6f0990f",
   "metadata": {},
   "outputs": [],
   "source": [
    "# Relational Operators --> all of it works"
   ]
  },
  {
   "cell_type": "code",
   "execution_count": 52,
   "id": "4a9962f1-58cf-4462-b58a-e36dd9d37423",
   "metadata": {},
   "outputs": [
    {
     "data": {
      "text/plain": [
       "False"
      ]
     },
     "execution_count": 52,
     "metadata": {},
     "output_type": "execute_result"
    }
   ],
   "source": [
    "'delhi' == 'mumbai'"
   ]
  },
  {
   "cell_type": "code",
   "execution_count": 53,
   "id": "a52288ba-cea7-4949-8a55-dfd0e1af0634",
   "metadata": {},
   "outputs": [
    {
     "data": {
      "text/plain": [
       "True"
      ]
     },
     "execution_count": 53,
     "metadata": {},
     "output_type": "execute_result"
    }
   ],
   "source": [
    "'delhi' == 'delhi'"
   ]
  },
  {
   "cell_type": "code",
   "execution_count": 54,
   "id": "3bd8d892-e516-4eb8-99c0-4315e5cb9a98",
   "metadata": {},
   "outputs": [
    {
     "data": {
      "text/plain": [
       "False"
      ]
     },
     "execution_count": 54,
     "metadata": {},
     "output_type": "execute_result"
    }
   ],
   "source": [
    "'delhi' != 'delhi'"
   ]
  },
  {
   "cell_type": "code",
   "execution_count": 57,
   "id": "476a1e4b-0d78-4155-a07a-7eb5ceb5f180",
   "metadata": {},
   "outputs": [
    {
     "data": {
      "text/plain": [
       "False"
      ]
     },
     "execution_count": 57,
     "metadata": {},
     "output_type": "execute_result"
    }
   ],
   "source": [
    "'mumbai' > 'pune'\n",
    "#lexicographically compared --> based on ASCII no comparison is done\n",
    "\n",
    "#non - technical logic --> which comes before in a dictionary will be greater"
   ]
  },
  {
   "cell_type": "code",
   "execution_count": 59,
   "id": "fc0b1b3e-8163-4308-93dc-395d4113cd53",
   "metadata": {},
   "outputs": [
    {
     "data": {
      "text/plain": [
       "False"
      ]
     },
     "execution_count": 59,
     "metadata": {},
     "output_type": "execute_result"
    }
   ],
   "source": [
    "'Pune' > 'pune'\n",
    "\n",
    "# capital 'P' ASCII value(80) is smaller than small 'p' ASCII value(112)"
   ]
  },
  {
   "cell_type": "code",
   "execution_count": null,
   "id": "1151cb6d-9ffc-4117-a34b-58cd4bd2d106",
   "metadata": {},
   "outputs": [],
   "source": [
    "# Logical Operator"
   ]
  },
  {
   "cell_type": "code",
   "execution_count": 60,
   "id": "4017d04b-661f-46f4-bce3-0e28d0718fbf",
   "metadata": {},
   "outputs": [
    {
     "data": {
      "text/plain": [
       "'world'"
      ]
     },
     "execution_count": 60,
     "metadata": {},
     "output_type": "execute_result"
    }
   ],
   "source": [
    "'hello' and 'world'"
   ]
  },
  {
   "cell_type": "code",
   "execution_count": 61,
   "id": "2d87224f-c1d6-455c-a765-0e7f46a84b1c",
   "metadata": {},
   "outputs": [
    {
     "data": {
      "text/plain": [
       "'hello'"
      ]
     },
     "execution_count": 61,
     "metadata": {},
     "output_type": "execute_result"
    }
   ],
   "source": [
    "'hello' or 'world'"
   ]
  },
  {
   "cell_type": "markdown",
   "id": "928e8d51-e121-4bf0-b519-3ebc6c462662",
   "metadata": {},
   "source": [
    "**In python, internally any string with char(non-empty string) --> considered True**\n",
    "**and if the string is empty --> considered as False**"
   ]
  },
  {
   "cell_type": "code",
   "execution_count": 64,
   "id": "85f49ac9-24de-4b9f-b236-aa3be8ee73c0",
   "metadata": {},
   "outputs": [
    {
     "data": {
      "text/plain": [
       "''"
      ]
     },
     "execution_count": 64,
     "metadata": {},
     "output_type": "execute_result"
    }
   ],
   "source": [
    "'' and 'world'\n",
    "\n",
    "# False and True --> gives False\n",
    "\n",
    "# And operator is true when both are true, else it is false"
   ]
  },
  {
   "cell_type": "code",
   "execution_count": 66,
   "id": "d51e7f90-8713-4e31-aa19-cbb29e890b2a",
   "metadata": {},
   "outputs": [
    {
     "data": {
      "text/plain": [
       "'world'"
      ]
     },
     "execution_count": 66,
     "metadata": {},
     "output_type": "execute_result"
    }
   ],
   "source": [
    "'' or 'world'\n",
    "\n",
    "# False or True --> True"
   ]
  },
  {
   "cell_type": "code",
   "execution_count": 68,
   "id": "66e53fd6-17bc-4fac-9dc4-6c8f2e6ae612",
   "metadata": {},
   "outputs": [
    {
     "data": {
      "text/plain": [
       "'hello'"
      ]
     },
     "execution_count": 68,
     "metadata": {},
     "output_type": "execute_result"
    }
   ],
   "source": [
    "'hello' or 'world'\n",
    "\n",
    "# When python say 'hello' it considered it will be True only , and did not look further\n",
    "# therefore returned 'hello'\n",
    "# as in or --> if one is True then it's True"
   ]
  },
  {
   "cell_type": "code",
   "execution_count": 69,
   "id": "1c9776ab-956e-4ba3-9726-486c4a449da4",
   "metadata": {},
   "outputs": [
    {
     "data": {
      "text/plain": [
       "'world'"
      ]
     },
     "execution_count": 69,
     "metadata": {},
     "output_type": "execute_result"
    }
   ],
   "source": [
    "'hello' and 'world'\n",
    "\n",
    "# Python took 'hello' as True but it needed to read/evaluate the other as well \n",
    "# cause in AND if both are true then its true or else its false\n",
    "\n",
    "# as both are true therefore it returned true --> 'world' \n",
    "# (any non-empty string is considered True)"
   ]
  },
  {
   "cell_type": "code",
   "execution_count": 70,
   "id": "ed3fcc65-84ef-4baa-b948-9d642f3e2483",
   "metadata": {},
   "outputs": [
    {
     "data": {
      "text/plain": [
       "True"
      ]
     },
     "execution_count": 70,
     "metadata": {},
     "output_type": "execute_result"
    }
   ],
   "source": [
    "not '' # not of False(empty string) is True"
   ]
  },
  {
   "cell_type": "code",
   "execution_count": 72,
   "id": "979783cf-18fb-4ce9-8555-d422b97fe385",
   "metadata": {},
   "outputs": [
    {
     "data": {
      "text/plain": [
       "False"
      ]
     },
     "execution_count": 72,
     "metadata": {},
     "output_type": "execute_result"
    }
   ],
   "source": [
    "not 'hello' # not of True(non-empty string) is False"
   ]
  },
  {
   "cell_type": "code",
   "execution_count": null,
   "id": "e8feaf58-067d-408f-87bd-4126e1b75266",
   "metadata": {},
   "outputs": [],
   "source": [
    "#Loops on Strings"
   ]
  },
  {
   "cell_type": "code",
   "execution_count": 74,
   "id": "fbd0d86c-6e7d-479f-8d54-72ee04c6a91c",
   "metadata": {},
   "outputs": [
    {
     "name": "stdout",
     "output_type": "stream",
     "text": [
      "h\n",
      "e\n",
      "l\n",
      "l\n",
      "o\n"
     ]
    }
   ],
   "source": [
    "# string in python is iterable\n",
    "\n",
    "for i in 'hello':\n",
    "    print(i)"
   ]
  },
  {
   "cell_type": "code",
   "execution_count": 76,
   "id": "71a70ffb-189d-4991-a118-4df34e547f60",
   "metadata": {},
   "outputs": [
    {
     "name": "stdout",
     "output_type": "stream",
     "text": [
      "pune\n",
      "pune\n",
      "pune\n",
      "pune\n",
      "pune\n"
     ]
    }
   ],
   "source": [
    "for i in 'hello':\n",
    "    print('pune')\n",
    "\n",
    "# loop will run for 'no of char in hello' number of times and print 'pune' that number of times"
   ]
  },
  {
   "cell_type": "code",
   "execution_count": null,
   "id": "d8be161b-832e-4465-99bc-465070c96cc9",
   "metadata": {},
   "outputs": [],
   "source": [
    "# Membership Operator --> 1. in    2. not in"
   ]
  },
  {
   "cell_type": "code",
   "execution_count": 77,
   "id": "fc0076e1-7e9c-413e-8889-75ecaa3e5db2",
   "metadata": {},
   "outputs": [
    {
     "data": {
      "text/plain": [
       "False"
      ]
     },
     "execution_count": 77,
     "metadata": {},
     "output_type": "execute_result"
    }
   ],
   "source": [
    "'D' not in 'Delhi'"
   ]
  },
  {
   "cell_type": "code",
   "execution_count": 78,
   "id": "f73df300-1ef0-4c37-85c6-81da2f484dc9",
   "metadata": {},
   "outputs": [
    {
     "data": {
      "text/plain": [
       "True"
      ]
     },
     "execution_count": 78,
     "metadata": {},
     "output_type": "execute_result"
    }
   ],
   "source": [
    "'D' in 'Delhi'"
   ]
  },
  {
   "cell_type": "code",
   "execution_count": 79,
   "id": "9cd316e7-80b4-4c23-be65-2688d74f6651",
   "metadata": {},
   "outputs": [
    {
     "data": {
      "text/plain": [
       "True"
      ]
     },
     "execution_count": 79,
     "metadata": {},
     "output_type": "execute_result"
    }
   ],
   "source": [
    "'D' not in 'delhi' # case sensitive"
   ]
  },
  {
   "cell_type": "markdown",
   "id": "cbb43495-093f-4a00-98fb-e015c0f8987a",
   "metadata": {},
   "source": [
    "## Common Functions\n",
    "- len\n",
    "- max\n",
    "- min\n",
    "- sorted\n",
    "\n",
    "**common functions works on all data types like strings,list,sets,dict,tuple,etc....**"
   ]
  },
  {
   "cell_type": "code",
   "execution_count": 81,
   "id": "a2a7c76f-7f2e-43c5-9c69-e0319c0b303e",
   "metadata": {},
   "outputs": [
    {
     "data": {
      "text/plain": [
       "11"
      ]
     },
     "execution_count": 81,
     "metadata": {},
     "output_type": "execute_result"
    }
   ],
   "source": [
    "len('hello world') # counts length including space"
   ]
  },
  {
   "cell_type": "code",
   "execution_count": 84,
   "id": "89aee769-3014-4c2a-acd5-d529e34a432b",
   "metadata": {},
   "outputs": [
    {
     "data": {
      "text/plain": [
       "'w'"
      ]
     },
     "execution_count": 84,
     "metadata": {},
     "output_type": "execute_result"
    }
   ],
   "source": [
    "max('hello world') # extracts maximum char from the string on the basis of ASCII value"
   ]
  },
  {
   "cell_type": "code",
   "execution_count": 85,
   "id": "5f3d0520-6382-4d5c-b646-259f9a4754b5",
   "metadata": {},
   "outputs": [
    {
     "data": {
      "text/plain": [
       "' '"
      ]
     },
     "execution_count": 85,
     "metadata": {},
     "output_type": "execute_result"
    }
   ],
   "source": [
    "min('hello world') # vice versa of max"
   ]
  },
  {
   "cell_type": "code",
   "execution_count": 87,
   "id": "f4d77920-3ea7-469c-a83c-7172a9a4e70f",
   "metadata": {},
   "outputs": [
    {
     "data": {
      "text/plain": [
       "[' ', 'd', 'e', 'h', 'l', 'l', 'l', 'o', 'o', 'r', 'w']"
      ]
     },
     "execution_count": 87,
     "metadata": {},
     "output_type": "execute_result"
    }
   ],
   "source": [
    "sorted('hello world')\n",
    "\n",
    "# note : it's output is not a string but a List\n",
    "# characters are organised in ascending order on the basis of ASCII values"
   ]
  },
  {
   "cell_type": "code",
   "execution_count": 88,
   "id": "864af5df-4ad9-428d-bc0e-65d4afacaec9",
   "metadata": {},
   "outputs": [
    {
     "data": {
      "text/plain": [
       "['w', 'r', 'o', 'o', 'l', 'l', 'l', 'h', 'e', 'd', ' ']"
      ]
     },
     "execution_count": 88,
     "metadata": {},
     "output_type": "execute_result"
    }
   ],
   "source": [
    "sorted('hello world', reverse=True) # sorting in descending order"
   ]
  },
  {
   "cell_type": "markdown",
   "id": "a3f41422-eba0-4e4d-b0a7-e9692dc0b8fe",
   "metadata": {},
   "source": [
    "## Functions that only work on strings data type"
   ]
  },
  {
   "cell_type": "markdown",
   "id": "6615c950-bf40-413a-9a5d-36cf0eef789d",
   "metadata": {},
   "source": [
    "## Capitalize/Title/Upper/Lower/Swapcase"
   ]
  },
  {
   "cell_type": "code",
   "execution_count": 113,
   "id": "1b45b871-eed7-44ff-9cbe-5385995a43b2",
   "metadata": {},
   "outputs": [
    {
     "name": "stdout",
     "output_type": "stream",
     "text": [
      "Hello world\n",
      "hello world\n"
     ]
    }
   ],
   "source": [
    "s = 'hello world'\n",
    "print(s.capitalize()) # Capitalize the first char of the sentence\n",
    "print(s)\n",
    "# s got capitalized but then again if we print s it stays the same\n",
    "# this means that when we apply these functions to the string , the original\n",
    "# string remains untouched, a new string is formed in memory and all the functions\n",
    "# are applied on that\n",
    "# all the functions below work the same --> no changes in og string, new string formed\n",
    "# changes made there"
   ]
  },
  {
   "cell_type": "code",
   "execution_count": 90,
   "id": "b241bb32-a95c-4064-97c7-b97df75e3906",
   "metadata": {},
   "outputs": [
    {
     "data": {
      "text/plain": [
       "'Hello World'"
      ]
     },
     "execution_count": 90,
     "metadata": {},
     "output_type": "execute_result"
    }
   ],
   "source": [
    "s.title() # Capitalizes the first char of every word in our sentence"
   ]
  },
  {
   "cell_type": "code",
   "execution_count": 91,
   "id": "9340e8e9-e1ff-4d10-9bcb-9a21c94f910c",
   "metadata": {},
   "outputs": [
    {
     "data": {
      "text/plain": [
       "'HELLO WORLD'"
      ]
     },
     "execution_count": 91,
     "metadata": {},
     "output_type": "execute_result"
    }
   ],
   "source": [
    "s.upper() # Convert all the chars into upper case"
   ]
  },
  {
   "cell_type": "code",
   "execution_count": 92,
   "id": "020079c2-a770-4d5e-b2cc-66f89185426c",
   "metadata": {},
   "outputs": [
    {
     "data": {
      "text/plain": [
       "'hello world'"
      ]
     },
     "execution_count": 92,
     "metadata": {},
     "output_type": "execute_result"
    }
   ],
   "source": [
    "'Hello World'.lower() # Convert all the chars into lower case"
   ]
  },
  {
   "cell_type": "code",
   "execution_count": 93,
   "id": "963a54c5-bc60-4bb2-acdc-2b61b7a866e1",
   "metadata": {},
   "outputs": [
    {
     "data": {
      "text/plain": [
       "'hElLo wORld'"
      ]
     },
     "execution_count": 93,
     "metadata": {},
     "output_type": "execute_result"
    }
   ],
   "source": [
    "'HeLlO WorLD'.swapcase() # capital to lower, lower to capital"
   ]
  },
  {
   "cell_type": "markdown",
   "id": "d7c79555-0bd0-4380-a866-8c12a24b4334",
   "metadata": {},
   "source": [
    "## Count/Find/Index"
   ]
  },
  {
   "cell_type": "code",
   "execution_count": 94,
   "id": "297403ef-c95b-457c-8120-41abf6fa8553",
   "metadata": {},
   "outputs": [
    {
     "data": {
      "text/plain": [
       "1"
      ]
     },
     "execution_count": 94,
     "metadata": {},
     "output_type": "execute_result"
    }
   ],
   "source": [
    "'my name is rahul'.count('i') # In a given string to find frequency count of mentioned substring"
   ]
  },
  {
   "cell_type": "code",
   "execution_count": 99,
   "id": "b5fdb48d-6ece-467a-a4f3-49c23e7554a5",
   "metadata": {},
   "outputs": [
    {
     "data": {
      "text/plain": [
       "-1"
      ]
     },
     "execution_count": 99,
     "metadata": {},
     "output_type": "execute_result"
    }
   ],
   "source": [
    "'my name is rahul'.find('x') # In a given string find the index of the mentioned substring\n",
    "# - 1 indicates substring not found"
   ]
  },
  {
   "cell_type": "code",
   "execution_count": 114,
   "id": "f980e834-0f1c-4abd-b089-a9f6764f80eb",
   "metadata": {},
   "outputs": [
    {
     "data": {
      "text/plain": [
       "8"
      ]
     },
     "execution_count": 114,
     "metadata": {},
     "output_type": "execute_result"
    }
   ],
   "source": [
    "'my name is rahul'.find('is')"
   ]
  },
  {
   "cell_type": "code",
   "execution_count": 115,
   "id": "71a46545-4eed-429c-950f-fb9571f416a5",
   "metadata": {},
   "outputs": [
    {
     "data": {
      "text/plain": [
       "8"
      ]
     },
     "execution_count": 115,
     "metadata": {},
     "output_type": "execute_result"
    }
   ],
   "source": [
    "'my name is nitish'.index('is') # similar to find\n",
    "\n",
    "# only diff b/w find and index is \n",
    "# find --> throws -1 if substring not found\n",
    "# index --> throws error if substring not found"
   ]
  },
  {
   "cell_type": "code",
   "execution_count": 116,
   "id": "841d18cd-2877-43b3-85bc-08323c4e70d5",
   "metadata": {},
   "outputs": [
    {
     "ename": "ValueError",
     "evalue": "substring not found",
     "output_type": "error",
     "traceback": [
      "\u001b[1;31m---------------------------------------------------------------------------\u001b[0m",
      "\u001b[1;31mValueError\u001b[0m                                Traceback (most recent call last)",
      "Cell \u001b[1;32mIn[116], line 1\u001b[0m\n\u001b[1;32m----> 1\u001b[0m \u001b[38;5;124m'\u001b[39m\u001b[38;5;124mmy name is nitish\u001b[39m\u001b[38;5;124m'\u001b[39m\u001b[38;5;241m.\u001b[39mindex(\u001b[38;5;124m'\u001b[39m\u001b[38;5;124mx\u001b[39m\u001b[38;5;124m'\u001b[39m)\n",
      "\u001b[1;31mValueError\u001b[0m: substring not found"
     ]
    }
   ],
   "source": [
    "'my name is nitish'.index('x')"
   ]
  },
  {
   "cell_type": "markdown",
   "id": "752b8b52-c69a-4752-a6f4-ea6836d19f1d",
   "metadata": {},
   "source": [
    "## endswith/startswith"
   ]
  },
  {
   "cell_type": "code",
   "execution_count": 102,
   "id": "4cf57e00-3ed1-426a-a3fc-e025bfe5c586",
   "metadata": {},
   "outputs": [
    {
     "data": {
      "text/plain": [
       "False"
      ]
     },
     "execution_count": 102,
     "metadata": {},
     "output_type": "execute_result"
    }
   ],
   "source": [
    "# to check if a string ends with/ starts with a particular thing or not\n",
    "'my name is nitish'.endswith('sho')\n"
   ]
  },
  {
   "cell_type": "code",
   "execution_count": 117,
   "id": "9a7a4c58-5242-40bf-886e-31cc59b8a667",
   "metadata": {},
   "outputs": [
    {
     "data": {
      "text/plain": [
       "True"
      ]
     },
     "execution_count": 117,
     "metadata": {},
     "output_type": "execute_result"
    }
   ],
   "source": [
    "'my name is nitish'.endswith('sh')"
   ]
  },
  {
   "cell_type": "code",
   "execution_count": 103,
   "id": "50c0aaaa-945e-4925-93b8-b162d0cea9b8",
   "metadata": {},
   "outputs": [
    {
     "data": {
      "text/plain": [
       "False"
      ]
     },
     "execution_count": 103,
     "metadata": {},
     "output_type": "execute_result"
    }
   ],
   "source": [
    "'my name is nitish'.startswith('1my')"
   ]
  },
  {
   "cell_type": "code",
   "execution_count": 118,
   "id": "41af58b8-091e-4146-8804-b3bfb528486d",
   "metadata": {},
   "outputs": [
    {
     "data": {
      "text/plain": [
       "True"
      ]
     },
     "execution_count": 118,
     "metadata": {},
     "output_type": "execute_result"
    }
   ],
   "source": [
    "'my name is nitish'.startswith('my')"
   ]
  },
  {
   "cell_type": "markdown",
   "id": "3671e5f9-058f-4fbf-af03-f6178029ad89",
   "metadata": {},
   "source": [
    "## Format"
   ]
  },
  {
   "cell_type": "code",
   "execution_count": 124,
   "id": "bbac9973-4822-4bd6-9650-2eb9e29c86ac",
   "metadata": {},
   "outputs": [
    {
     "data": {
      "text/plain": [
       "'Hi my name is nitish and I am a male'"
      ]
     },
     "execution_count": 124,
     "metadata": {},
     "output_type": "execute_result"
    }
   ],
   "source": [
    "# format --> in a given string we can insert a variable's value\n",
    "\n",
    "name = 'nitish'\n",
    "gender = 'male'\n",
    "\n",
    "'Hi my name is {} and I am a {}'.format(name,gender)\n",
    "\n",
    "# first value (name) will be entered in first bracket\n",
    "# and second value(gender) will be entered in second bracket\n",
    "\n",
    "# hence order matters"
   ]
  },
  {
   "cell_type": "code",
   "execution_count": 125,
   "id": "0aa0c866-5e97-4f03-a342-50f900f93d39",
   "metadata": {},
   "outputs": [
    {
     "data": {
      "text/plain": [
       "'Hi my name is male and I am a nitish'"
      ]
     },
     "execution_count": 125,
     "metadata": {},
     "output_type": "execute_result"
    }
   ],
   "source": [
    "name = 'nitish'\n",
    "gender = 'male'\n",
    "\n",
    "'Hi my name is {} and I am a {}'.format(gender,name)\n",
    "\n",
    "# order matter"
   ]
  },
  {
   "cell_type": "code",
   "execution_count": 127,
   "id": "5b89d280-f7d7-49c2-92f3-660401e194d9",
   "metadata": {},
   "outputs": [
    {
     "data": {
      "text/plain": [
       "'Hi my name is nitish and I am a male'"
      ]
     },
     "execution_count": 127,
     "metadata": {},
     "output_type": "execute_result"
    }
   ],
   "source": [
    "# we can provide order by ourselves (decide position by our convenience)\n",
    "name = 'nitish'\n",
    "gender = 'male'\n",
    "#                                          0      1\n",
    "'Hi my name is {1} and I am a {0}'.format(gender,name)"
   ]
  },
  {
   "cell_type": "markdown",
   "id": "ad1615aa-d5f5-4c8f-bf98-347da5f3018b",
   "metadata": {},
   "source": [
    "## isalnum/ isalpha/ isdigit/ isidentifier"
   ]
  },
  {
   "cell_type": "code",
   "execution_count": null,
   "id": "eacedb65-ec09-4ee2-a78f-740a5727e3d8",
   "metadata": {},
   "outputs": [],
   "source": [
    "# these functions are to test if a given string belongs to a particular criteria or not"
   ]
  },
  {
   "cell_type": "code",
   "execution_count": 105,
   "id": "1c219fd1-0441-4fc6-88f2-0cda3f41685d",
   "metadata": {},
   "outputs": [
    {
     "data": {
      "text/plain": [
       "False"
      ]
     },
     "execution_count": 105,
     "metadata": {},
     "output_type": "execute_result"
    }
   ],
   "source": [
    "'nitish1234%'.isalnum() # checks if string is alphanumeric or not --> num and alplabets"
   ]
  },
  {
   "cell_type": "code",
   "execution_count": 128,
   "id": "befcf528-216d-4abf-b44a-aa8985dbb1cf",
   "metadata": {},
   "outputs": [
    {
     "data": {
      "text/plain": [
       "True"
      ]
     },
     "execution_count": 128,
     "metadata": {},
     "output_type": "execute_result"
    }
   ],
   "source": [
    "'nitish1234'.isalnum()"
   ]
  },
  {
   "cell_type": "code",
   "execution_count": 106,
   "id": "daaafc1d-6c54-4332-99f1-5c6232cc9606",
   "metadata": {},
   "outputs": [
    {
     "data": {
      "text/plain": [
       "True"
      ]
     },
     "execution_count": 106,
     "metadata": {},
     "output_type": "execute_result"
    }
   ],
   "source": [
    "'nitish'.isalpha() # --> all alphabets or not"
   ]
  },
  {
   "cell_type": "code",
   "execution_count": 129,
   "id": "f0ace6c2-08b1-4aa9-a683-c9aa8788405d",
   "metadata": {},
   "outputs": [
    {
     "data": {
      "text/plain": [
       "False"
      ]
     },
     "execution_count": 129,
     "metadata": {},
     "output_type": "execute_result"
    }
   ],
   "source": [
    "'nitish098'.isalpha()"
   ]
  },
  {
   "cell_type": "code",
   "execution_count": 130,
   "id": "bd3c52f0-b34d-45d7-a596-e61b69202732",
   "metadata": {},
   "outputs": [
    {
     "data": {
      "text/plain": [
       "False"
      ]
     },
     "execution_count": 130,
     "metadata": {},
     "output_type": "execute_result"
    }
   ],
   "source": [
    "'123abc'.isdigit() # --> all digit or not"
   ]
  },
  {
   "cell_type": "code",
   "execution_count": 131,
   "id": "22641416-e129-4e11-bf84-80871dc5350d",
   "metadata": {},
   "outputs": [
    {
     "data": {
      "text/plain": [
       "True"
      ]
     },
     "execution_count": 131,
     "metadata": {},
     "output_type": "execute_result"
    }
   ],
   "source": [
    "'123'.isdigit()"
   ]
  },
  {
   "cell_type": "code",
   "execution_count": 108,
   "id": "ed74cd02-ca32-4f1e-b733-5ecf2bd44dce",
   "metadata": {},
   "outputs": [
    {
     "data": {
      "text/plain": [
       "False"
      ]
     },
     "execution_count": 108,
     "metadata": {},
     "output_type": "execute_result"
    }
   ],
   "source": [
    "'first-name'.isidentifier() # checks if it is a valid identifier or not (certain rules for valid identifier we studied earlier)"
   ]
  },
  {
   "cell_type": "code",
   "execution_count": 132,
   "id": "005fffbf-a7ee-496f-8960-11eb0c6b276e",
   "metadata": {},
   "outputs": [
    {
     "data": {
      "text/plain": [
       "False"
      ]
     },
     "execution_count": 132,
     "metadata": {},
     "output_type": "execute_result"
    }
   ],
   "source": [
    "'1name'.isidentifier()"
   ]
  },
  {
   "cell_type": "code",
   "execution_count": 133,
   "id": "00033e5d-edb6-48bf-9004-498e2c8228d4",
   "metadata": {},
   "outputs": [
    {
     "data": {
      "text/plain": [
       "True"
      ]
     },
     "execution_count": 133,
     "metadata": {},
     "output_type": "execute_result"
    }
   ],
   "source": [
    "'name1'.isidentifier()"
   ]
  },
  {
   "cell_type": "code",
   "execution_count": 134,
   "id": "93866cda-c2d3-4634-be46-534208569c6e",
   "metadata": {},
   "outputs": [
    {
     "data": {
      "text/plain": [
       "True"
      ]
     },
     "execution_count": 134,
     "metadata": {},
     "output_type": "execute_result"
    }
   ],
   "source": [
    "'first_name'.isidentifier()"
   ]
  },
  {
   "cell_type": "markdown",
   "id": "9d4082bb-cf8b-4aad-8c91-b8b3016dfc1c",
   "metadata": {},
   "source": [
    "## Split/Join"
   ]
  },
  {
   "cell_type": "code",
   "execution_count": 109,
   "id": "66eacd61-6b85-443a-8d47-f677dafc2d90",
   "metadata": {},
   "outputs": [
    {
     "data": {
      "text/plain": [
       "['hi', 'my', 'name', 'is', 'nitish']"
      ]
     },
     "execution_count": 109,
     "metadata": {},
     "output_type": "execute_result"
    }
   ],
   "source": [
    "'hi my name is nitish'.split() # breaks a given sentence word by word and add into a list\n",
    "# by default it split on the basis of ' '(spaces)"
   ]
  },
  {
   "cell_type": "code",
   "execution_count": 135,
   "id": "f3808317-cd4a-4155-853e-507f4d302491",
   "metadata": {},
   "outputs": [
    {
     "data": {
      "text/plain": [
       "['h', ' my name ', 's n', 't', 'sh']"
      ]
     },
     "execution_count": 135,
     "metadata": {},
     "output_type": "execute_result"
    }
   ],
   "source": [
    "# not necessary we split on basis of ' ' (spaces)\n",
    "# we can mention anything \n",
    "# ex:\n",
    "# split on the basis of i\n",
    "'hi my name is nitish'.split('i') "
   ]
  },
  {
   "cell_type": "code",
   "execution_count": 136,
   "id": "d6663a06-a649-481e-a72b-25cf33303298",
   "metadata": {},
   "outputs": [
    {
     "data": {
      "text/plain": [
       "['hi my name ', ' nit', 'h']"
      ]
     },
     "execution_count": 136,
     "metadata": {},
     "output_type": "execute_result"
    }
   ],
   "source": [
    "'hi my name is nitish'.split('is') # split on the basis of is"
   ]
  },
  {
   "cell_type": "code",
   "execution_count": 110,
   "id": "eacefd51-f6e8-4fde-a832-3904cd3fd08a",
   "metadata": {},
   "outputs": [
    {
     "data": {
      "text/plain": [
       "'hi my name is nitish'"
      ]
     },
     "execution_count": 110,
     "metadata": {},
     "output_type": "execute_result"
    }
   ],
   "source": [
    "\" \".join(['hi', 'my', 'name', 'is', 'nitish']) # reverse of split\n",
    "# join words to form sentence\n",
    "# by default joining is done on the basis of ' '(spaces)"
   ]
  },
  {
   "cell_type": "code",
   "execution_count": 137,
   "id": "6882961c-f8da-4b62-bcdd-45e91c5b39d0",
   "metadata": {},
   "outputs": [
    {
     "data": {
      "text/plain": [
       "'hi-my-name-is-nitish'"
      ]
     },
     "execution_count": 137,
     "metadata": {},
     "output_type": "execute_result"
    }
   ],
   "source": [
    "\"-\".join(['hi', 'my', 'name', 'is', 'nitish'])\n",
    "# joining will be done on the basis of -(hyphen)"
   ]
  },
  {
   "cell_type": "markdown",
   "id": "d0c661cc-25b5-4fcf-b5fd-5dbd81e46b61",
   "metadata": {},
   "source": [
    "## Replace"
   ]
  },
  {
   "cell_type": "code",
   "execution_count": null,
   "id": "15c41d9d-f074-476f-af3b-00a3b3918007",
   "metadata": {},
   "outputs": [],
   "source": [
    "# replaces a particular substring"
   ]
  },
  {
   "cell_type": "code",
   "execution_count": 138,
   "id": "30b38d7f-01a1-4867-ba46-70fdc9ab9f59",
   "metadata": {},
   "outputs": [
    {
     "data": {
      "text/plain": [
       "'hi my name is campusx'"
      ]
     },
     "execution_count": 138,
     "metadata": {},
     "output_type": "execute_result"
    }
   ],
   "source": [
    "'hi my name is nitish'.replace('nitish','campusx')\n",
    "# not replacing in og string\n",
    "# new string is being formed and operation is performed on that"
   ]
  },
  {
   "cell_type": "code",
   "execution_count": 139,
   "id": "fde7e804-7b5a-4079-9662-e88230599c79",
   "metadata": {},
   "outputs": [
    {
     "data": {
      "text/plain": [
       "'hi my name is nitish'"
      ]
     },
     "execution_count": 139,
     "metadata": {},
     "output_type": "execute_result"
    }
   ],
   "source": [
    "'hi my name is nitish'.replace('nitisrgewrhgh','campusx')\n",
    "# if the word doesn't exist in the string, then it won't be replaced"
   ]
  },
  {
   "cell_type": "markdown",
   "id": "71bf856b-449a-4bb7-b579-721bc9ddce68",
   "metadata": {},
   "source": [
    "## Strip"
   ]
  },
  {
   "cell_type": "code",
   "execution_count": null,
   "id": "98b79c97-eb1d-4560-bb81-8842aa40e918",
   "metadata": {},
   "outputs": [],
   "source": [
    "# removes the trailing spaces"
   ]
  },
  {
   "cell_type": "code",
   "execution_count": 112,
   "id": "d508a025-bbb7-4bf5-9181-60ff686969c1",
   "metadata": {},
   "outputs": [
    {
     "data": {
      "text/plain": [
       "'nitish'"
      ]
     },
     "execution_count": 112,
     "metadata": {},
     "output_type": "execute_result"
    }
   ],
   "source": [
    "'nitish                           '.strip()"
   ]
  },
  {
   "cell_type": "code",
   "execution_count": 140,
   "id": "7cf94749-bf6e-4c4b-89af-cda0bbdf3707",
   "metadata": {},
   "outputs": [
    {
     "data": {
      "text/plain": [
       "'nitish'"
      ]
     },
     "execution_count": 140,
     "metadata": {},
     "output_type": "execute_result"
    }
   ],
   "source": [
    "'               nitish                      '.strip()"
   ]
  },
  {
   "cell_type": "code",
   "execution_count": null,
   "id": "a75d723e-04c2-408e-847a-f7e177841302",
   "metadata": {},
   "outputs": [],
   "source": []
  },
  {
   "cell_type": "code",
   "execution_count": null,
   "id": "856f6f18-a61c-4963-bba1-c3f74455477d",
   "metadata": {},
   "outputs": [],
   "source": []
  },
  {
   "cell_type": "code",
   "execution_count": null,
   "id": "77d43eae-521d-4729-9029-bd36d59c044e",
   "metadata": {},
   "outputs": [],
   "source": []
  },
  {
   "cell_type": "code",
   "execution_count": null,
   "id": "76264428-19b4-4bd1-9982-0a6d7ca23f95",
   "metadata": {},
   "outputs": [],
   "source": []
  },
  {
   "cell_type": "code",
   "execution_count": null,
   "id": "0d8c18a4-13d3-40a5-8455-17c45d035163",
   "metadata": {},
   "outputs": [],
   "source": []
  },
  {
   "cell_type": "code",
   "execution_count": null,
   "id": "f7dd17ed-78ef-42cd-a280-7c72e1bbe3b9",
   "metadata": {},
   "outputs": [],
   "source": []
  },
  {
   "cell_type": "code",
   "execution_count": null,
   "id": "8fcbe798-e85a-4dfc-97f9-980934fe1e5e",
   "metadata": {},
   "outputs": [],
   "source": []
  },
  {
   "cell_type": "code",
   "execution_count": null,
   "id": "becd39df-d8db-4a91-9dfc-fd1e3a1b5c4f",
   "metadata": {},
   "outputs": [],
   "source": []
  },
  {
   "cell_type": "code",
   "execution_count": null,
   "id": "8bc3800c-90cd-4de2-965e-ad4f8dbfa4cf",
   "metadata": {},
   "outputs": [],
   "source": []
  }
 ],
 "metadata": {
  "kernelspec": {
   "display_name": "Python 3 (ipykernel)",
   "language": "python",
   "name": "python3"
  },
  "language_info": {
   "codemirror_mode": {
    "name": "ipython",
    "version": 3
   },
   "file_extension": ".py",
   "mimetype": "text/x-python",
   "name": "python",
   "nbconvert_exporter": "python",
   "pygments_lexer": "ipython3",
   "version": "3.11.7"
  }
 },
 "nbformat": 4,
 "nbformat_minor": 5
}
