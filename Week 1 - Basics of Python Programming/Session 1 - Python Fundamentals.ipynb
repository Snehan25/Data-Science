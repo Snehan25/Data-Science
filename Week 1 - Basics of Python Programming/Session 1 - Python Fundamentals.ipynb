{
 "cells": [
  {
   "cell_type": "markdown",
   "id": "04a0e881-7935-428e-a95b-9953b5e6a6e7",
   "metadata": {},
   "source": [
    "# 1. Python Output"
   ]
  },
  {
   "cell_type": "code",
   "execution_count": 1,
   "id": "ddfbf45b-8e1a-449d-879a-3fc45f2dfcce",
   "metadata": {},
   "outputs": [
    {
     "name": "stdout",
     "output_type": "stream",
     "text": [
      "Hello World\n"
     ]
    }
   ],
   "source": [
    "# Python is a case sensitive language\n",
    "print('Hello World')"
   ]
  },
  {
   "cell_type": "code",
   "execution_count": 2,
   "id": "cbfeeda7-ccc7-4e6f-89e6-6884ab6898da",
   "metadata": {},
   "outputs": [
    {
     "name": "stdout",
     "output_type": "stream",
     "text": [
      "Leonardo Dicaprio\n"
     ]
    }
   ],
   "source": [
    "print('Leonardo Dicaprio')"
   ]
  },
  {
   "cell_type": "code",
   "execution_count": 4,
   "id": "1513d537-9c85-4ca9-90ca-421e1336c470",
   "metadata": {},
   "outputs": [
    {
     "ename": "SyntaxError",
     "evalue": "invalid syntax. Perhaps you forgot a comma? (3979084932.py, line 1)",
     "output_type": "error",
     "traceback": [
      "\u001b[1;36m  Cell \u001b[1;32mIn[4], line 1\u001b[1;36m\u001b[0m\n\u001b[1;33m    print(salman khan)\u001b[0m\n\u001b[1;37m          ^\u001b[0m\n\u001b[1;31mSyntaxError\u001b[0m\u001b[1;31m:\u001b[0m invalid syntax. Perhaps you forgot a comma?\n"
     ]
    }
   ],
   "source": [
    "print(salman khan)\n",
    "# inverted commas '' is a way to tell python that it is a string . If we don't add it it will throw error."
   ]
  },
  {
   "cell_type": "code",
   "execution_count": 5,
   "id": "c0d14c71-b6be-47a4-9419-4903bcb4dfa0",
   "metadata": {},
   "outputs": [
    {
     "name": "stdout",
     "output_type": "stream",
     "text": [
      "7\n"
     ]
    }
   ],
   "source": [
    "print(7) # Number"
   ]
  },
  {
   "cell_type": "code",
   "execution_count": 6,
   "id": "c84a373a-1326-457b-8187-066443362c34",
   "metadata": {},
   "outputs": [
    {
     "name": "stdout",
     "output_type": "stream",
     "text": [
      "7.7\n"
     ]
    }
   ],
   "source": [
    "print(7.7) # Decimal"
   ]
  },
  {
   "cell_type": "code",
   "execution_count": null,
   "id": "b61c181a-a3db-4c57-8656-71dbb2461a17",
   "metadata": {},
   "outputs": [],
   "source": [
    "print(True) # Boolean"
   ]
  },
  {
   "cell_type": "code",
   "execution_count": 11,
   "id": "333436e7-7965-4c00-945b-8fbbbf7751aa",
   "metadata": {},
   "outputs": [
    {
     "name": "stdout",
     "output_type": "stream",
     "text": [
      "Hello 1 4.5 True\n"
     ]
    }
   ],
   "source": [
    "print('Hello',1,4.5,True) # printing multiple data types in a single print statement\n",
    "\n",
    "# each data is separated with space cause in sep argument by default it is mentioned ' '(space)  (shift + tab - opens documentation)\n",
    "'''Signature: print(*args, sep=' ', end='\\n', file=None, flush=False)\n",
    "Docstring:\n",
    "Prints the values to a stream, or to sys.stdout by default.\n",
    "\n",
    "sep\n",
    "  string inserted between values, default a space.\n",
    "end\n",
    "  string appended after the last value, default a newline.\n",
    "file\n",
    "  a file-like object (stream); defaults to the current sys.stdout.\n",
    "flush\n",
    "  whether to forcibly flush the stream.\n",
    "Type:      builtin_function_or_method'''\n"
   ]
  },
  {
   "cell_type": "code",
   "execution_count": 12,
   "id": "50e8e2fa-754b-42c7-aa5f-5b253faac145",
   "metadata": {},
   "outputs": [
    {
     "name": "stdout",
     "output_type": "stream",
     "text": [
      "Hello/1/4.5/True\n"
     ]
    }
   ],
   "source": [
    "print('Hello',1,4.5,True, sep='/') # Overiding sep argument"
   ]
  },
  {
   "cell_type": "code",
   "execution_count": 13,
   "id": "f640e869-fa8f-426d-a5c1-554fba8d7f42",
   "metadata": {},
   "outputs": [
    {
     "name": "stdout",
     "output_type": "stream",
     "text": [
      "Hello\n",
      "World\n"
     ]
    }
   ],
   "source": [
    "print('Hello')\n",
    "print('World')\n",
    "\n",
    "# why when we write two print statements the output comes in two separate lines?\n",
    "# (If we look at doc of print) there is an argument, end = '\\n' (by default) this is the reason"
   ]
  },
  {
   "cell_type": "code",
   "execution_count": 14,
   "id": "ded3eeba-02a7-435c-90c4-05ee210e56f1",
   "metadata": {},
   "outputs": [
    {
     "name": "stdout",
     "output_type": "stream",
     "text": [
      "Hello-World\n"
     ]
    }
   ],
   "source": [
    "#overiding end arg\n",
    "print('Hello', end='-')\n",
    "print('World')"
   ]
  },
  {
   "cell_type": "markdown",
   "id": "20382b81-d985-425c-b89f-65331491592e",
   "metadata": {},
   "source": [
    "# 2. Data Types"
   ]
  },
  {
   "cell_type": "code",
   "execution_count": 18,
   "id": "80b896f8-da36-4fbd-90c6-3c806849a4a7",
   "metadata": {},
   "outputs": [
    {
     "name": "stdout",
     "output_type": "stream",
     "text": [
      "8\n",
      "1e+308\n",
      "inf\n"
     ]
    }
   ],
   "source": [
    "# integer data type\n",
    "\n",
    "print(8)\n",
    "\n",
    "# 1*10^308 - python can handle int only till here(limt), any num beyond this python will throw inf(infinite) \n",
    "print(1e308)\n",
    "\n",
    "print(1e309)"
   ]
  },
  {
   "cell_type": "code",
   "execution_count": 20,
   "id": "81a3a097-8054-4916-ab6e-01260398c4d5",
   "metadata": {},
   "outputs": [
    {
     "name": "stdout",
     "output_type": "stream",
     "text": [
      "8.55\n",
      "1.7e+308\n",
      "inf\n"
     ]
    }
   ],
   "source": [
    "#Decimal/Float\n",
    "print(8.55)\n",
    "\n",
    "print(1.7e308) # 1.7*10^308 - max decimal python can handle\n",
    "\n",
    "print(1.7e309)"
   ]
  },
  {
   "cell_type": "code",
   "execution_count": 21,
   "id": "9c0596a0-1cda-4d69-be3d-26a314ae6b3b",
   "metadata": {},
   "outputs": [
    {
     "name": "stdout",
     "output_type": "stream",
     "text": [
      "True\n",
      "False\n"
     ]
    }
   ],
   "source": [
    "#Boolean\n",
    "\n",
    "print(True)\n",
    "print(False)"
   ]
  },
  {
   "cell_type": "code",
   "execution_count": 22,
   "id": "1e63130d-1ad8-4f02-880a-b343563ff4c7",
   "metadata": {},
   "outputs": [
    {
     "name": "stdout",
     "output_type": "stream",
     "text": [
      "Hello World\n"
     ]
    }
   ],
   "source": [
    "# Text/String\n",
    "print('Hello World')"
   ]
  },
  {
   "cell_type": "code",
   "execution_count": 27,
   "id": "29e60df4-e889-4052-add4-b176da0d2f81",
   "metadata": {},
   "outputs": [
    {
     "name": "stdout",
     "output_type": "stream",
     "text": [
      "(5+6j)\n"
     ]
    }
   ],
   "source": [
    "# complex\n",
    "print(5+6j)"
   ]
  },
  {
   "cell_type": "code",
   "execution_count": 23,
   "id": "b2705b2a-7fe2-484b-ad69-23c4df0a8165",
   "metadata": {},
   "outputs": [
    {
     "name": "stdout",
     "output_type": "stream",
     "text": [
      "[1, 2, 3, 4, 5]\n"
     ]
    }
   ],
   "source": [
    "# List -> C -> Array\n",
    "print([1,2,3,4,5])"
   ]
  },
  {
   "cell_type": "code",
   "execution_count": 24,
   "id": "e6b8bd59-0530-46f4-a690-a79177b91f95",
   "metadata": {},
   "outputs": [
    {
     "name": "stdout",
     "output_type": "stream",
     "text": [
      "(1, 2, 3, 4, 5)\n"
     ]
    }
   ],
   "source": [
    "# Tuple\n",
    "print((1,2,3,4,5))"
   ]
  },
  {
   "cell_type": "code",
   "execution_count": 25,
   "id": "893ae7eb-d1fe-4589-b06c-4d185b444287",
   "metadata": {},
   "outputs": [
    {
     "name": "stdout",
     "output_type": "stream",
     "text": [
      "{1, 2, 3, 4, 5}\n"
     ]
    }
   ],
   "source": [
    "#Sets\n",
    "print({1,2,3,4,5})"
   ]
  },
  {
   "cell_type": "code",
   "execution_count": 26,
   "id": "d9c311f5-2fb9-497b-9532-3d09b7100f78",
   "metadata": {},
   "outputs": [
    {
     "name": "stdout",
     "output_type": "stream",
     "text": [
      "{'name': 'John', 'age': 37, 'gender': 'Male'}\n"
     ]
    }
   ],
   "source": [
    "# Dictionary - key value pair\n",
    "print({'name' : 'John' , 'age' : 37 , 'gender': 'Male'})"
   ]
  },
  {
   "cell_type": "code",
   "execution_count": 29,
   "id": "c10c1489-8b9c-4102-bc05-582148334a9c",
   "metadata": {},
   "outputs": [
    {
     "data": {
      "text/plain": [
       "float"
      ]
     },
     "execution_count": 29,
     "metadata": {},
     "output_type": "execute_result"
    }
   ],
   "source": [
    "# Type Function - identifies the data type\n",
    "\n",
    "type(3)"
   ]
  },
  {
   "cell_type": "code",
   "execution_count": 30,
   "id": "3e6bfaca-9c09-4228-8599-fe5d529c26aa",
   "metadata": {},
   "outputs": [
    {
     "data": {
      "text/plain": [
       "float"
      ]
     },
     "execution_count": 30,
     "metadata": {},
     "output_type": "execute_result"
    }
   ],
   "source": [
    "type(3.5)"
   ]
  },
  {
   "cell_type": "code",
   "execution_count": 31,
   "id": "248b8c0d-9b89-4818-a6a6-782317ded881",
   "metadata": {},
   "outputs": [
    {
     "data": {
      "text/plain": [
       "complex"
      ]
     },
     "execution_count": 31,
     "metadata": {},
     "output_type": "execute_result"
    }
   ],
   "source": [
    "type(6+6j)"
   ]
  },
  {
   "cell_type": "code",
   "execution_count": 32,
   "id": "6c3436ab-27ef-4f04-9d44-b8365d822eae",
   "metadata": {},
   "outputs": [
    {
     "data": {
      "text/plain": [
       "list"
      ]
     },
     "execution_count": 32,
     "metadata": {},
     "output_type": "execute_result"
    }
   ],
   "source": [
    "type([1,2,3,4])"
   ]
  },
  {
   "cell_type": "markdown",
   "id": "2435f3cf-302f-4f5a-86ae-8911cb020e0d",
   "metadata": {},
   "source": [
    "# 3. Variables"
   ]
  },
  {
   "cell_type": "code",
   "execution_count": 33,
   "id": "3a3a34c8-2d76-46d2-a3eb-67cbd352c7c0",
   "metadata": {},
   "outputs": [
    {
     "name": "stdout",
     "output_type": "stream",
     "text": [
      "John\n"
     ]
    }
   ],
   "source": [
    "# Containers to store info for future use\n",
    "\n",
    "# we don't declare a var like in c/c++ (ex: char name -> no need to do this)\n",
    "# we don't mention the data type for var at the time of var creation like in c++ (ex: char name = '')\n",
    "\n",
    "name = 'John'\n",
    "print(name)"
   ]
  },
  {
   "cell_type": "code",
   "execution_count": 34,
   "id": "76673c9d-f7b2-4a09-8df4-2f6298597833",
   "metadata": {},
   "outputs": [
    {
     "name": "stdout",
     "output_type": "stream",
     "text": [
      "11\n"
     ]
    }
   ],
   "source": [
    "a = 5\n",
    "b = 6\n",
    "\n",
    "print(a+b)"
   ]
  },
  {
   "cell_type": "markdown",
   "id": "dce50b00-5c75-4870-98e7-d6eb55ba2e30",
   "metadata": {},
   "source": [
    "#### Interview Ques - What is Dynamic Typing in Python ?"
   ]
  },
  {
   "cell_type": "code",
   "execution_count": null,
   "id": "dea38bc1-6310-4edb-9991-d68a4d1dad4f",
   "metadata": {},
   "outputs": [],
   "source": [
    "# Dynamic typing\n",
    "# we don't mention the data type for var at the time of var creation like in c++ (ex: char name = '')\n",
    "# we simply write name = ''\n",
    "# This way of creating var is called dynamic typing -> where we do not tell the data type of a variable and python automatically detects it\n",
    "a = 5\n",
    "\n",
    "# Static Typing -> the way we create var in c/c++, java etc. \n",
    "# ex: int a = 5 "
   ]
  },
  {
   "cell_type": "code",
   "execution_count": 1,
   "id": "b4618c41-f0a5-413f-97bd-7b7e5e116354",
   "metadata": {},
   "outputs": [
    {
     "name": "stdout",
     "output_type": "stream",
     "text": [
      "5\n",
      "snehan\n"
     ]
    }
   ],
   "source": [
    "# Dynamic Binding\n",
    "a = 5\n",
    "print(a)\n",
    "a = 'snehan'\n",
    "print(a)\n",
    "\n",
    "# in python, a variable doesn't have a fixed datatype, it can be any datatype at any time\n",
    "# meaning it can hold any datatype at diff times in a same program (like the abv ex)\n",
    "# this is called dynamic binding.\n",
    "\n",
    "#whereas\n",
    "\n",
    "# in static binding once we have declared a variable with a datatype then in whole\n",
    "# program we cannot change it data type\n",
    "# ex: in c/c++ it follows static binding, int a = 5, then throughout the program\n",
    "# a cannot store any other data type (it can store other int but not string, bool etc)\n",
    "\n"
   ]
  },
  {
   "cell_type": "code",
   "execution_count": 2,
   "id": "eee3cbe5-fb67-4267-b47f-17855a1d178a",
   "metadata": {},
   "outputs": [
    {
     "name": "stdout",
     "output_type": "stream",
     "text": [
      "1 2 3\n"
     ]
    }
   ],
   "source": [
    "# diff way to write creating multiple variable\n",
    "a = 1\n",
    "b = 2\n",
    "c = 3\n",
    "print(a,b,c)"
   ]
  },
  {
   "cell_type": "code",
   "execution_count": 3,
   "id": "75d53b7b-878b-4165-a20b-7f2ccc380710",
   "metadata": {},
   "outputs": [
    {
     "name": "stdout",
     "output_type": "stream",
     "text": [
      "1 2 3\n"
     ]
    }
   ],
   "source": [
    "a,b,c = 1,2,3\n",
    "print(a,b,c)"
   ]
  },
  {
   "cell_type": "code",
   "execution_count": 4,
   "id": "6c1ffbe7-adc0-4750-b41c-ea6181529742",
   "metadata": {},
   "outputs": [
    {
     "name": "stdout",
     "output_type": "stream",
     "text": [
      "5 5 5\n"
     ]
    }
   ],
   "source": [
    "a=b=c=5\n",
    "print(a,b,c)"
   ]
  },
  {
   "cell_type": "markdown",
   "id": "49167f26-6214-4269-81d7-70954106bea1",
   "metadata": {},
   "source": [
    "# Comments\n"
   ]
  },
  {
   "cell_type": "code",
   "execution_count": 5,
   "id": "6bea0f10-236b-4a06-b92a-29ad76d8df60",
   "metadata": {},
   "outputs": [
    {
     "name": "stdout",
     "output_type": "stream",
     "text": [
      "10\n"
     ]
    }
   ],
   "source": [
    "# this is a comment\n",
    "# second line\n",
    "a = 4\n",
    "b = 6 #like this\n",
    "# second comment\n",
    "print(a+b)\n",
    "\n",
    "\n",
    "# python interpreter never read comments"
   ]
  },
  {
   "cell_type": "markdown",
   "id": "cd7e9b90-ac7c-426e-981e-a718d3d4c526",
   "metadata": {},
   "source": [
    "# 4. Keywords & Identifiers"
   ]
  },
  {
   "cell_type": "raw",
   "id": "68ea353f-63b0-4ad0-ac74-b44aa075fae9",
   "metadata": {},
   "source": [
    "#### Keywords\n",
    "\n",
    "Programming--> done in english words--> high level language --> machine understands only binary 0 & 1 --> to execute the code we need to convert our english written code in 1s and 0s --> this conversion process is called as compilation --> done by compiler or interpreter --> compiler converts the whole code all together ex: java, c++ --> intepreter converts the code line by line ex: python, php\n",
    "\n",
    "Our compiler/interpreter needs a bit help to understand how to convert english into binary ex: print word will help the comiler to understand programmer wants to print, if-else word will tell the compiler the programmer wants to create branching logic.. etc\n",
    "\n",
    "There are certain words reserved by the comiler/interpreter which helps them understand the word --> these are called **keywords** \n",
    "\n",
    "In python there are **36 keywords.**\n",
    "\n",
    "**Note:Don't use these reserved keywords as variable names.(can create confusion or code might not work).**"
   ]
  },
  {
   "cell_type": "raw",
   "id": "30b01b2a-62af-4fa1-bb5a-7870e38e9302",
   "metadata": {},
   "source": [
    "#### Identifiers\n",
    "\n",
    "Names we create/give in the function are called identifiers.\n",
    "EX: variable names, function names, class names\n",
    "\n",
    "Rules to consider while creating an indentifier:\n",
    "1. You can't start with a digit\n",
    "   ex: 1name = 'Rahul'\n",
    "       print(1name)\n",
    "       but the opposite works\n",
    "   ex: name1 = 'Rahul'\n",
    "       print(name1)\n",
    "\n",
    "3. You can use only this special char -> _(underscore)\n",
    "   ex: first_name = 'Rahul'\n",
    "       print(first_name)\n",
    "       _ = 'Rahul' --> even this works\n",
    "       print(_)\n",
    "   the below won't work\n",
    "       first-name = 'Rahul'\n",
    "       print(first-name)\n",
    "   \n",
    "   "
   ]
  },
  {
   "cell_type": "markdown",
   "id": "19ed777d-9442-4b9d-9081-e8d64a5ab617",
   "metadata": {},
   "source": [
    "# 5. User Input"
   ]
  },
  {
   "cell_type": "code",
   "execution_count": 1,
   "id": "9532f8d5-c213-4674-a928-0a69f2390f29",
   "metadata": {},
   "outputs": [
    {
     "name": "stdin",
     "output_type": "stream",
     "text": [
      " Rahul\n"
     ]
    },
    {
     "data": {
      "text/plain": [
       "'Rahul'"
      ]
     },
     "execution_count": 1,
     "metadata": {},
     "output_type": "execute_result"
    }
   ],
   "source": [
    "input() "
   ]
  },
  {
   "cell_type": "code",
   "execution_count": 2,
   "id": "996fcb59-c415-47cc-a4bd-798b8fdb9c99",
   "metadata": {},
   "outputs": [
    {
     "name": "stdin",
     "output_type": "stream",
     "text": [
      "Enter your name Rahul\n"
     ]
    },
    {
     "data": {
      "text/plain": [
       "'Rahul'"
      ]
     },
     "execution_count": 2,
     "metadata": {},
     "output_type": "execute_result"
    }
   ],
   "source": [
    "input('Enter your name')"
   ]
  },
  {
   "cell_type": "code",
   "execution_count": 4,
   "id": "ff71b837-441f-42e2-b317-08a368dca04b",
   "metadata": {},
   "outputs": [
    {
     "name": "stdin",
     "output_type": "stream",
     "text": [
      "enter first number 44\n",
      "enter second number 66\n"
     ]
    },
    {
     "name": "stdout",
     "output_type": "stream",
     "text": [
      "4466\n"
     ]
    }
   ],
   "source": [
    "# program to take two no as uper input and perform operation on it\n",
    "\n",
    "# take input from user and store them in a variable\n",
    "fnum = input('enter first number')\n",
    "snum = input('enter second number')\n",
    "# print(fnum,snum)\n",
    "\n",
    "# add the 2 variable \n",
    "result = fnum + snum\n",
    "\n",
    "# print the result\n",
    "print(result)\n",
    "\n",
    "#result is unexpected, it is not adding up mathematically \n",
    "#why is this error coming?\n"
   ]
  },
  {
   "cell_type": "code",
   "execution_count": 5,
   "id": "4da50f41-ea26-4a75-a3b7-7bbc1189f160",
   "metadata": {},
   "outputs": [
    {
     "name": "stdin",
     "output_type": "stream",
     "text": [
      "enter first number 44\n",
      "enter second number 66\n"
     ]
    },
    {
     "name": "stdout",
     "output_type": "stream",
     "text": [
      "<class 'str'> <class 'str'>\n",
      "4466\n"
     ]
    }
   ],
   "source": [
    "# take input from user and store them in a variable\n",
    "fnum = input('enter first number')\n",
    "snum = input('enter second number')\n",
    "print(type(fnum),type(snum))\n",
    "\n",
    "# add the 2 variable \n",
    "result = fnum + snum\n",
    "\n",
    "# print the result\n",
    "print(result)"
   ]
  },
  {
   "cell_type": "raw",
   "id": "5405ef52-d718-4116-8f51-f3dfc823bc72",
   "metadata": {},
   "source": [
    "The user gives int as input, but by default the int is stored as string type in variable\n",
    "Adding two strings will not add it mathematically but rather concatenate both\n",
    "This is what is hapenning here."
   ]
  },
  {
   "cell_type": "raw",
   "id": "8499030c-0f99-46c3-bc1b-c44d54b0430a",
   "metadata": {},
   "source": [
    "Why is python storing it in string?\n",
    "string is a universal data format, meaning we can store diff data type in a string ex: an int like 4 can be stored in a string format\n",
    "    can store a complex no in strong format....\n",
    "\n",
    "but vice versa is not true --> cannot store a string as an int format\n",
    "ex: cannot store 'kolkata' in int format.\n",
    "\n",
    "therefore the python devs decided that user input could be any data type so by default string was the choice."
   ]
  },
  {
   "cell_type": "raw",
   "id": "1750ccbb-0e38-41c2-81e8-fb5f6eacea70",
   "metadata": {},
   "source": [
    "solution? "
   ]
  },
  {
   "cell_type": "markdown",
   "id": "fa00fb83-27c8-4266-8843-8d89930c0505",
   "metadata": {},
   "source": [
    "# 6. Type Conversion\n"
   ]
  },
  {
   "cell_type": "code",
   "execution_count": 7,
   "id": "0f6ca52c-727c-4338-a06f-b80e6731dbbc",
   "metadata": {},
   "outputs": [
    {
     "name": "stdout",
     "output_type": "stream",
     "text": [
      "10.6\n",
      "<class 'int'> <class 'float'>\n"
     ]
    }
   ],
   "source": [
    "# Converts a data type into another data type\n",
    "\n",
    "# there are two types of type conversion in python\n",
    "# Implicit Vs Explicit\n",
    "\n",
    "#Implicit - done by the interpreter , programmer doesn't have to worry\n",
    "# ex:\n",
    "print(5+5.6)\n",
    "print(type(5),type(5.6))"
   ]
  },
  {
   "cell_type": "code",
   "execution_count": 8,
   "id": "88a42fb6-8e74-4f3e-b99e-817337a4d477",
   "metadata": {},
   "outputs": [
    {
     "ename": "TypeError",
     "evalue": "unsupported operand type(s) for +: 'int' and 'str'",
     "output_type": "error",
     "traceback": [
      "\u001b[1;31m---------------------------------------------------------------------------\u001b[0m",
      "\u001b[1;31mTypeError\u001b[0m                                 Traceback (most recent call last)",
      "Cell \u001b[1;32mIn[8], line 2\u001b[0m\n\u001b[0;32m      1\u001b[0m \u001b[38;5;66;03m#Implicit type conversion doesn't always work\u001b[39;00m\n\u001b[1;32m----> 2\u001b[0m \u001b[38;5;28mprint\u001b[39m(\u001b[38;5;241m4\u001b[39m \u001b[38;5;241m+\u001b[39m \u001b[38;5;124m'\u001b[39m\u001b[38;5;124m4\u001b[39m\u001b[38;5;124m'\u001b[39m)\n",
      "\u001b[1;31mTypeError\u001b[0m: unsupported operand type(s) for +: 'int' and 'str'"
     ]
    }
   ],
   "source": [
    "#Implicit type conversion doesn't always work\n",
    "print(4 + '4')"
   ]
  },
  {
   "cell_type": "code",
   "execution_count": 14,
   "id": "59fae161-e3db-4197-be10-9a2c0a4182d1",
   "metadata": {},
   "outputs": [
    {
     "name": "stdout",
     "output_type": "stream",
     "text": [
      "4\n",
      "<class 'int'>\n",
      "4\n"
     ]
    },
    {
     "ename": "TypeError",
     "evalue": "int() argument must be a string, a bytes-like object or a real number, not 'complex'",
     "output_type": "error",
     "traceback": [
      "\u001b[1;31m---------------------------------------------------------------------------\u001b[0m",
      "\u001b[1;31mTypeError\u001b[0m                                 Traceback (most recent call last)",
      "Cell \u001b[1;32mIn[14], line 11\u001b[0m\n\u001b[0;32m      8\u001b[0m \u001b[38;5;28mprint\u001b[39m(\u001b[38;5;28mint\u001b[39m(\u001b[38;5;241m4.5\u001b[39m))\n\u001b[0;32m     10\u001b[0m \u001b[38;5;66;03m# complex no --> int\u001b[39;00m\n\u001b[1;32m---> 11\u001b[0m \u001b[38;5;28mprint\u001b[39m(\u001b[38;5;28mint\u001b[39m(\u001b[38;5;241m4\u001b[39m\u001b[38;5;241m+\u001b[39m\u001b[38;5;241m5\u001b[39mj))\n",
      "\u001b[1;31mTypeError\u001b[0m: int() argument must be a string, a bytes-like object or a real number, not 'complex'"
     ]
    }
   ],
   "source": [
    "#Explicit - done by the programmer\n",
    "\n",
    "# str --> int\n",
    "print(int('4'))\n",
    "print(type(int('4')))\n",
    "\n",
    "# float --> int\n",
    "print(int(4.5))\n",
    "\n",
    "# complex no --> int\n",
    "print(int(4+5j))\n",
    "#complex no cannot be converted into complex no\n",
    "# it's logically incorrect , as complex no -> real + imaginary\n",
    "# if we convert it into int that means keep real and remove imaginary\n",
    "# ex: 4 + 5j keep 4 remove 5j --> information loss, python doesn't allow"
   ]
  },
  {
   "cell_type": "code",
   "execution_count": 15,
   "id": "4d96418c-d009-42ef-a359-e9a765cab378",
   "metadata": {},
   "outputs": [
    {
     "data": {
      "text/plain": [
       "'5'"
      ]
     },
     "execution_count": 15,
     "metadata": {},
     "output_type": "execute_result"
    }
   ],
   "source": [
    "# int to str\n",
    "str(5)"
   ]
  },
  {
   "cell_type": "code",
   "execution_count": 16,
   "id": "2572e847-81af-4814-b900-1079e5a276de",
   "metadata": {},
   "outputs": [
    {
     "data": {
      "text/plain": [
       "4.0"
      ]
     },
     "execution_count": 16,
     "metadata": {},
     "output_type": "execute_result"
    }
   ],
   "source": [
    "# float\n",
    "float(4)"
   ]
  },
  {
   "cell_type": "code",
   "execution_count": 18,
   "id": "b822c0f7-9cad-4429-bc74-aaf1cbfcb648",
   "metadata": {},
   "outputs": [
    {
     "name": "stdin",
     "output_type": "stream",
     "text": [
      "enter first number 44\n",
      "enter second number 66\n"
     ]
    },
    {
     "name": "stdout",
     "output_type": "stream",
     "text": [
      "110\n"
     ]
    }
   ],
   "source": [
    "# now we can try out our program from above using these type converersion techniques\n",
    "# so that it won't throw an error\n",
    "# ex: int(fnum), int(snum)\n",
    "\n",
    "# take input from user and store them in a variable\n",
    "fnum = input('enter first number')\n",
    "snum = input('enter second number')\n",
    "# print(type(fnum),type(snum))\n",
    "\n",
    "# add the 2 variable \n",
    "result = int(fnum) + int(snum)\n",
    "\n",
    "# print the result\n",
    "print(result)\n",
    "\n"
   ]
  },
  {
   "cell_type": "code",
   "execution_count": 20,
   "id": "4f18fd9b-bd41-4636-b261-8640f6414614",
   "metadata": {},
   "outputs": [
    {
     "name": "stdout",
     "output_type": "stream",
     "text": [
      "<class 'str'>\n"
     ]
    }
   ],
   "source": [
    "# afer doing the type conversion , the data type of fnum \n",
    "print(type(fnum))\n",
    "\n",
    "# is still string\n",
    "# cause still the value inside fnum is string\n",
    "\n",
    "# so what actually happened in type conversion?\n",
    "# In python, whenever we do type conversion like this , a new object is created\n",
    "# when we write int(fnum) , there was no change in fnum but rather a new fnum was \n",
    "# created and changes were made in it.\n",
    "\n",
    "# so type conversion does not apply changes to the original data but rather create\n",
    "# a new data/value and make changes into that value."
   ]
  },
  {
   "cell_type": "code",
   "execution_count": 21,
   "id": "8cf05705-7a40-42ba-9ee6-82d499807b52",
   "metadata": {},
   "outputs": [
    {
     "name": "stdin",
     "output_type": "stream",
     "text": [
      "enter first number 44\n",
      "enter second number 66\n"
     ]
    },
    {
     "name": "stdout",
     "output_type": "stream",
     "text": [
      "110\n"
     ]
    }
   ],
   "source": [
    "# we can also type convert at the time of taking input\n",
    "\n",
    "# take input from user and store them in a variable\n",
    "fnum = int(input('enter first number'))\n",
    "snum = int(input('enter second number'))\n",
    "# print(type(fnum),type(snum))\n",
    "\n",
    "# add the 2 variable \n",
    "result = int(fnum) + int(snum)\n",
    "\n",
    "# print the result\n",
    "print(result)"
   ]
  },
  {
   "cell_type": "code",
   "execution_count": 25,
   "id": "5d474759-2853-4b6f-b845-a10c987e5b7d",
   "metadata": {},
   "outputs": [
    {
     "name": "stdout",
     "output_type": "stream",
     "text": [
      "<class 'int'>\n"
     ]
    }
   ],
   "source": [
    "# in this way , the type of fnum will change permanently from str to int\n",
    "# cause here we have stored in fnum as int format only during input\n",
    "# (we first converted it into int then stored it)\n",
    "\n",
    "# before we were storing it as str and later type converting it\n",
    "# (we stored it in str and then later converted it into int)\n",
    "\n",
    "print(type(fnum))"
   ]
  },
  {
   "cell_type": "markdown",
   "id": "9a9ee73c-3535-4276-8ec4-2eaa98ceb41d",
   "metadata": {},
   "source": [
    "# 7. Literals"
   ]
  },
  {
   "cell_type": "markdown",
   "id": "939626fb-4d3c-45b4-b943-eefbeac40822",
   "metadata": {},
   "source": [
    "whatever raw value we store inside a variable is called **Literal**\n",
    "\n",
    "\n",
    "ex: a = 2  \n",
    "\n",
    "a is variable\n",
    "\n",
    "= is operator\n",
    "\n",
    "2 is literal\n",
    "\n",
    "\n",
    "##### Ways to set Literal:"
   ]
  },
  {
   "cell_type": "code",
   "execution_count": 28,
   "id": "344dbb29-b197-4796-9d62-fc7458580903",
   "metadata": {},
   "outputs": [
    {
     "name": "stdout",
     "output_type": "stream",
     "text": [
      "10\n"
     ]
    }
   ],
   "source": [
    "a = 0b1010 #Binary Literals --> will give output as 10(integer) (1010 in binary), \n",
    "# 0b indicates that whatever comes later are binary example: 0b1010\n",
    "# 0b indicates binary 1010 indicates 10(integer)\n",
    "print(a)"
   ]
  },
  {
   "cell_type": "code",
   "execution_count": 29,
   "id": "1cd371b2-cc19-4f29-a776-f018d18a2406",
   "metadata": {},
   "outputs": [
    {
     "name": "stdout",
     "output_type": "stream",
     "text": [
      "10 100 200 300\n",
      "10.5 150.0 0.0015\n",
      "3.14j 3.14 0.0\n"
     ]
    }
   ],
   "source": [
    "a = 0b1010 # Binary Literal\n",
    "b = 100 #Decimal Literal \n",
    "c = 0o310 #Octal Literal\n",
    "d = 0x12c #Hexadecimal Literal\n",
    "\n",
    "#Float Literal\n",
    "float_1 = 10.5 \n",
    "float_2 = 1.5e2 # 1.5 * 10^2\n",
    "float_3 = 1.5e-3 # 1.5 * 10^-3\n",
    "\n",
    "#Complex Literal \n",
    "x = 3.14j \n",
    "\n",
    "print(a, b, c, d)\n",
    "print(float_1, float_2,float_3)\n",
    "print(x, x.imag, x.real)"
   ]
  },
  {
   "cell_type": "code",
   "execution_count": 31,
   "id": "1f2e9f6f-be28-4564-a593-6441c8ee550e",
   "metadata": {},
   "outputs": [
    {
     "name": "stdout",
     "output_type": "stream",
     "text": [
      "3.14\n"
     ]
    }
   ],
   "source": [
    "x = 3.14j\n",
    "print(x.imag)"
   ]
  },
  {
   "cell_type": "code",
   "execution_count": 32,
   "id": "91556ddd-c4a1-4929-bdfe-03b081579602",
   "metadata": {},
   "outputs": [
    {
     "name": "stdout",
     "output_type": "stream",
     "text": [
      "This is Python\n",
      "This is Python\n",
      "C\n",
      "This is a multiline string with more than one line code.\n",
      "😀😆🤣\n",
      "raw \\n string\n"
     ]
    }
   ],
   "source": [
    "# all of these string representation is valid\n",
    "string = 'This is Python'\n",
    "strings = \"This is Python\"\n",
    "char = \"C\"\n",
    "multiline_str = \"\"\"This is a multiline string with more than one line code.\"\"\"\n",
    "# unicode strings - ex: unicode for smiley emoji\n",
    "unicode = u\"\\U0001f600\\U0001F606\\U0001F923\"\n",
    "#\\n , \\t , etc symbols we use for new line and other things in programming, to represent it in raw string.\n",
    "raw_str = r\"raw \\n string\"\n",
    "\n",
    "print(string)\n",
    "print(strings)\n",
    "print(char)\n",
    "print(multiline_str)\n",
    "print(unicode)\n",
    "print(raw_str)"
   ]
  },
  {
   "cell_type": "code",
   "execution_count": 35,
   "id": "fff9097c-7f26-4045-96f6-374cdc624221",
   "metadata": {},
   "outputs": [
    {
     "name": "stdout",
     "output_type": "stream",
     "text": [
      "a: 5\n",
      "b: 10\n"
     ]
    }
   ],
   "source": [
    "# Booleans\n",
    "# python internally considers True as 1 and False as 0\n",
    "# so we could perform mathematical operations on it\n",
    "# Python treats boolean as numbers in a mathematical expression\n",
    "a = True + 4 # 1 + 4\n",
    "b = False + 10 # 0 + 10\n",
    "\n",
    "print(\"a:\", a)\n",
    "print(\"b:\", b)"
   ]
  },
  {
   "cell_type": "code",
   "execution_count": 42,
   "id": "db11f8a1-d6e9-4d1c-8282-b9d0d5b68252",
   "metadata": {},
   "outputs": [],
   "source": [
    "# None Literal\n",
    "\n",
    "h = None\n",
    "\n",
    "# it's usecase?\n",
    "\n",
    "# in python we cannot declare a variable and then use it later\n",
    "# Ex:"
   ]
  },
  {
   "cell_type": "code",
   "execution_count": 45,
   "id": "c4b459c8-a93b-49e3-ad54-aadf5d352402",
   "metadata": {},
   "outputs": [
    {
     "ename": "NameError",
     "evalue": "name 'z' is not defined",
     "output_type": "error",
     "traceback": [
      "\u001b[1;31m---------------------------------------------------------------------------\u001b[0m",
      "\u001b[1;31mNameError\u001b[0m                                 Traceback (most recent call last)",
      "Cell \u001b[1;32mIn[45], line 1\u001b[0m\n\u001b[1;32m----> 1\u001b[0m z \n\u001b[0;32m      2\u001b[0m a \u001b[38;5;241m=\u001b[39m \u001b[38;5;241m5\u001b[39m\n\u001b[0;32m      3\u001b[0m b \u001b[38;5;241m=\u001b[39m \u001b[38;5;241m6\u001b[39m\n",
      "\u001b[1;31mNameError\u001b[0m: name 'z' is not defined"
     ]
    }
   ],
   "source": [
    "z \n",
    "a = 5\n",
    "b = 6\n",
    "print('Program exe')\n",
    "\n",
    "#it throws an error\n",
    "# there is no way in python, using which we can declare a variable\n",
    "# (meaning layman's term - let's declare a variable let's say as z , keep it in program we will use\n",
    "# it later , python doesn't let us do that, whenever you want to use make it instantly\n",
    "# can't keep it beforehand)\n",
    "\n",
    "# To solve this problem we can use None"
   ]
  },
  {
   "cell_type": "code",
   "execution_count": 47,
   "id": "25c7dce7-a3df-4beb-8a69-f72146e7568a",
   "metadata": {},
   "outputs": [
    {
     "name": "stdout",
     "output_type": "stream",
     "text": [
      "Program exe\n"
     ]
    }
   ],
   "source": [
    "z = None\n",
    "a = 5\n",
    "b = 6\n",
    "print('Program exe')\n",
    "\n",
    "# program doesn't throw error anymore."
   ]
  },
  {
   "cell_type": "markdown",
   "id": "326743e5-6490-418d-a3ff-397c0c3c6269",
   "metadata": {},
   "source": [
    "#### None literal is used for variable declaration"
   ]
  },
  {
   "cell_type": "code",
   "execution_count": null,
   "id": "860cf6c9-71a1-449c-9ae4-b8f7992447ec",
   "metadata": {},
   "outputs": [],
   "source": []
  }
 ],
 "metadata": {
  "kernelspec": {
   "display_name": "Python 3 (ipykernel)",
   "language": "python",
   "name": "python3"
  },
  "language_info": {
   "codemirror_mode": {
    "name": "ipython",
    "version": 3
   },
   "file_extension": ".py",
   "mimetype": "text/x-python",
   "name": "python",
   "nbconvert_exporter": "python",
   "pygments_lexer": "ipython3",
   "version": "3.11.7"
  }
 },
 "nbformat": 4,
 "nbformat_minor": 5
}
