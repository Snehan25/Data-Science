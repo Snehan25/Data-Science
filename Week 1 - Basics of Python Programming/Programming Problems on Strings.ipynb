{
 "cells": [
  {
   "cell_type": "code",
   "execution_count": 2,
   "id": "d026997e-3879-4bbc-a449-094eb12fcacd",
   "metadata": {},
   "outputs": [
    {
     "name": "stdin",
     "output_type": "stream",
     "text": [
      "enter the string Snehan Sahoo\n"
     ]
    },
    {
     "name": "stdout",
     "output_type": "stream",
     "text": [
      "length of string is 12\n"
     ]
    }
   ],
   "source": [
    "# Find the length of a given string without using the len() function\n",
    "\n",
    "s = input('enter the string')\n",
    "\n",
    "counter = 0\n",
    "\n",
    "for i in s:\n",
    "    counter += 1\n",
    "\n",
    "print('length of string is',counter)"
   ]
  },
  {
   "cell_type": "code",
   "execution_count": 4,
   "id": "341964c3-ca0f-4580-beae-f88e1b01edd1",
   "metadata": {},
   "outputs": [
    {
     "name": "stdin",
     "output_type": "stream",
     "text": [
      "enter your email snehan@gmail.com\n"
     ]
    },
    {
     "name": "stdout",
     "output_type": "stream",
     "text": [
      "snehan\n"
     ]
    }
   ],
   "source": [
    "# Extract username from a given email. \n",
    "# Eg if the email is nitish24singh@gmail.com \n",
    "# then the username should be nitish24singh\n",
    "\n",
    "s = input('enter your email')\n",
    "\n",
    "pos = s.index('@') # find index of '@'\n",
    "print(s[0:pos]) # displaying from 0 to pos - 1 ==> which is the name in the email\n",
    "    "
   ]
  },
  {
   "cell_type": "code",
   "execution_count": 7,
   "id": "a023185a-a871-4dcd-81f9-a832ada524d3",
   "metadata": {},
   "outputs": [
    {
     "name": "stdin",
     "output_type": "stream",
     "text": [
      "enter the string hello\n",
      "What would you like to search for l\n"
     ]
    },
    {
     "name": "stdout",
     "output_type": "stream",
     "text": [
      "frequency 2\n"
     ]
    }
   ],
   "source": [
    "# Count the frequency of a particular character in a provided string. \n",
    "# Eg 'hello how are you' is the string, the frequency of h in this string is 2.\n",
    "\n",
    "s = input('enter the string')\n",
    "term = input('What would you like to search for')\n",
    "\n",
    "counter = 0\n",
    "for i in s:\n",
    "    if i == term:\n",
    "        counter+= 1\n",
    "\n",
    "print('frequency', counter)\n"
   ]
  },
  {
   "cell_type": "code",
   "execution_count": 9,
   "id": "e9a9cca4-ea61-41d5-99ff-1d90fcea9214",
   "metadata": {},
   "outputs": [
    {
     "name": "stdin",
     "output_type": "stream",
     "text": [
      "enter the string snehan\n",
      "What would you like to remove n\n"
     ]
    },
    {
     "name": "stdout",
     "output_type": "stream",
     "text": [
      "seha\n"
     ]
    }
   ],
   "source": [
    "# Write a program which can remove a particular character from a string.\n",
    "s = input('enter the string')\n",
    "term = input('What would you like to remove')\n",
    "\n",
    "result = ''\n",
    "\n",
    "for i in s:\n",
    "    if i != term:\n",
    "        result = result + i\n",
    "\n",
    "print(result)"
   ]
  },
  {
   "cell_type": "code",
   "execution_count": 13,
   "id": "ec6e9bac-eef9-4c15-a927-f635b970a415",
   "metadata": {},
   "outputs": [
    {
     "name": "stdin",
     "output_type": "stream",
     "text": [
      "enter the string python\n"
     ]
    },
    {
     "name": "stdout",
     "output_type": "stream",
     "text": [
      "Not a Palindrome\n"
     ]
    }
   ],
   "source": [
    "# Write a program that can check whether a given string is palindrome or not.\n",
    "# abba\n",
    "# malayalam\n",
    "\n",
    "s = input('enter the string')\n",
    "flag = True\n",
    "\n",
    "for i in range(0,len(s)//2): # running the loop for half the string \n",
    "    if s[i] != s[len(s) - i - 1]: # comparing first and last char, second last and second char.... and so on ex: malayalam if 'm' == 'm' ? , if 'a' == 'a' and so on....\n",
    "        flag = False\n",
    "        print('Not a Palindrome')\n",
    "        break\n",
    "\n",
    "if flag:\n",
    "    print('Palindrome')"
   ]
  },
  {
   "cell_type": "code",
   "execution_count": 14,
   "id": "259ccd92-1c7e-49b2-9ef6-210169b111a4",
   "metadata": {},
   "outputs": [
    {
     "name": "stdin",
     "output_type": "stream",
     "text": [
      "enter the string hello how are you\n"
     ]
    },
    {
     "name": "stdout",
     "output_type": "stream",
     "text": [
      "['hello', 'how', 'are', 'you']\n"
     ]
    }
   ],
   "source": [
    "# Write a program to count the number of words in a string without split()\n",
    "\n",
    "s = input('enter the string')\n",
    "L = []\n",
    "temp = ''\n",
    "for i in s:\n",
    "\n",
    "    if i!=' ':\n",
    "        temp = temp + i\n",
    "    else:\n",
    "        L.append(temp)\n",
    "        temp = ''\n",
    "\n",
    "# the above logic won't work for the last word, cause its separating on the basis\n",
    "# of space and we don't have a space after last word, so we have to write the \n",
    "# L.append(temp) again for the last word\n",
    "\n",
    "L.append(temp)\n",
    "print(L)"
   ]
  },
  {
   "cell_type": "code",
   "execution_count": 16,
   "id": "ae217ad3-b75b-45d5-85a9-fbcf421f8a71",
   "metadata": {},
   "outputs": [
    {
     "name": "stdin",
     "output_type": "stream",
     "text": [
      "enter the string hello how are you\n"
     ]
    },
    {
     "name": "stdout",
     "output_type": "stream",
     "text": [
      "Hello How Are You\n"
     ]
    }
   ],
   "source": [
    "# Write a python program to convert a string to title case without using the title()\n",
    "\n",
    "s = input('enter the string')\n",
    "\n",
    "L = []\n",
    "for i in s.split(): # split the sentence into words and iterate i over each word\n",
    "    L.append(i[0].upper() + i[1:].lower()) # capitalise the first letter of each word, and all other words as small case and appending the words after transformation into a list\n",
    "\n",
    "print(\" \".join(L)) # joining the words again and returing a sentence\n"
   ]
  },
  {
   "cell_type": "code",
   "execution_count": 25,
   "id": "6470a941-ad17-4147-b88e-20e324219d07",
   "metadata": {},
   "outputs": [
    {
     "name": "stdin",
     "output_type": "stream",
     "text": [
      "enter the number 234\n"
     ]
    },
    {
     "name": "stdout",
     "output_type": "stream",
     "text": [
      "234\n",
      "<class 'str'>\n"
     ]
    }
   ],
   "source": [
    "# Write a program that can convert an integer to string.\n",
    "# without using str func --> ex:\n",
    "# str(489)\n",
    "\n",
    "number = int(input('enter the number'))\n",
    "\n",
    "digits = '0123456789' # storing all digits in string format\n",
    "result = ''\n",
    "while number !=0:\n",
    "    result = digits[number % 10] + result  # ex: 34 % 10 --> 4 (last digit) and then finding that digit in our 'digits' string therefore digits[number % 10] ex: finding int 4 in digits = '0123456789' (string)\n",
    "# by doing this we will be able to replace for ex: int 4 with str '4' and then we will put it into result\n",
    "# we will do that for every digit of the number therefore,\n",
    "    number = number //10 # meaning do it for 34 % 10 --> 4 --> perform the operation ==> then 34 // 10 --> 3 ==> 3 % 10 --> 3 --> perform the operation .... continue this until all the digit of the number has been done with\n",
    "\n",
    "print(result)\n",
    "print(type(result))"
   ]
  },
  {
   "cell_type": "code",
   "execution_count": 27,
   "id": "a1b91b9e-a745-40e0-a81e-0442f0197e8f",
   "metadata": {},
   "outputs": [
    {
     "name": "stdin",
     "output_type": "stream",
     "text": [
      "Enter the number:  0\n"
     ]
    },
    {
     "name": "stdout",
     "output_type": "stream",
     "text": [
      "String representation: 0\n",
      "<class 'str'>\n"
     ]
    }
   ],
   "source": [
    "# Write a program that can convert an integer to string without using str()\n",
    "\n",
    "number = int(input('Enter the number: '))\n",
    "digits = '0123456789'  # String of all digits\n",
    "result = ''\n",
    "\n",
    "# Edge case: if number is 0\n",
    "if number == 0:\n",
    "    result = '0'\n",
    "else:\n",
    "    while number != 0:\n",
    "        result = digits[number % 10] + result\n",
    "        number = number // 10\n",
    "\n",
    "print(\"String representation:\", result)\n",
    "print(type(result))\n"
   ]
  },
  {
   "cell_type": "code",
   "execution_count": null,
   "id": "9ffe91c1-4182-499d-93c4-8b4cd72b4f0d",
   "metadata": {},
   "outputs": [],
   "source": []
  }
 ],
 "metadata": {
  "kernelspec": {
   "display_name": "Python 3 (ipykernel)",
   "language": "python",
   "name": "python3"
  },
  "language_info": {
   "codemirror_mode": {
    "name": "ipython",
    "version": 3
   },
   "file_extension": ".py",
   "mimetype": "text/x-python",
   "name": "python",
   "nbconvert_exporter": "python",
   "pygments_lexer": "ipython3",
   "version": "3.11.7"
  }
 },
 "nbformat": 4,
 "nbformat_minor": 5
}
